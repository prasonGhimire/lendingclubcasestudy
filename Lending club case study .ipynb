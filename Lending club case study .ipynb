{
 "cells": [
  {
   "cell_type": "code",
   "execution_count": 1,
   "id": "e2fcc661",
   "metadata": {},
   "outputs": [],
   "source": [
    "import pandas as pd\n",
    "import numpy as np\n",
    "import matplotlib.pyplot as plt\n",
    "import seaborn as sns"
   ]
  },
  {
   "cell_type": "code",
   "execution_count": 2,
   "id": "1117a2b8",
   "metadata": {},
   "outputs": [
    {
     "data": {
      "text/html": [
       "<div>\n",
       "<style scoped>\n",
       "    .dataframe tbody tr th:only-of-type {\n",
       "        vertical-align: middle;\n",
       "    }\n",
       "\n",
       "    .dataframe tbody tr th {\n",
       "        vertical-align: top;\n",
       "    }\n",
       "\n",
       "    .dataframe thead th {\n",
       "        text-align: right;\n",
       "    }\n",
       "</style>\n",
       "<table border=\"1\" class=\"dataframe\">\n",
       "  <thead>\n",
       "    <tr style=\"text-align: right;\">\n",
       "      <th></th>\n",
       "      <th>LoanStatNew</th>\n",
       "      <th>Description</th>\n",
       "    </tr>\n",
       "  </thead>\n",
       "  <tbody>\n",
       "    <tr>\n",
       "      <th>0</th>\n",
       "      <td>acc_now_delinq</td>\n",
       "      <td>The number of accounts on which the borrower i...</td>\n",
       "    </tr>\n",
       "    <tr>\n",
       "      <th>1</th>\n",
       "      <td>acc_open_past_24mths</td>\n",
       "      <td>Number of trades opened in past 24 months.</td>\n",
       "    </tr>\n",
       "    <tr>\n",
       "      <th>2</th>\n",
       "      <td>addr_state</td>\n",
       "      <td>The state provided by the borrower in the loan...</td>\n",
       "    </tr>\n",
       "    <tr>\n",
       "      <th>3</th>\n",
       "      <td>all_util</td>\n",
       "      <td>Balance to credit limit on all trades</td>\n",
       "    </tr>\n",
       "    <tr>\n",
       "      <th>4</th>\n",
       "      <td>annual_inc</td>\n",
       "      <td>The self-reported annual income provided by th...</td>\n",
       "    </tr>\n",
       "  </tbody>\n",
       "</table>\n",
       "</div>"
      ],
      "text/plain": [
       "            LoanStatNew                                        Description\n",
       "0        acc_now_delinq  The number of accounts on which the borrower i...\n",
       "1  acc_open_past_24mths         Number of trades opened in past 24 months.\n",
       "2            addr_state  The state provided by the borrower in the loan...\n",
       "3              all_util              Balance to credit limit on all trades\n",
       "4            annual_inc  The self-reported annual income provided by th..."
      ]
     },
     "execution_count": 2,
     "metadata": {},
     "output_type": "execute_result"
    }
   ],
   "source": [
    "dict_df=pd.read_excel('Data_Dictionary.xlsx')\n",
    "dict_df.head()"
   ]
  },
  {
   "cell_type": "code",
   "execution_count": 3,
   "id": "d358fd40",
   "metadata": {},
   "outputs": [
    {
     "name": "stderr",
     "output_type": "stream",
     "text": [
      "C:\\Users\\prason.ghimire\\AppData\\Local\\Temp\\ipykernel_21752\\4217034196.py:1: DtypeWarning: Columns (47) have mixed types. Specify dtype option on import or set low_memory=False.\n",
      "  loan_df=pd.read_csv('./loan/loan.csv')\n"
     ]
    },
    {
     "data": {
      "text/html": [
       "<div>\n",
       "<style scoped>\n",
       "    .dataframe tbody tr th:only-of-type {\n",
       "        vertical-align: middle;\n",
       "    }\n",
       "\n",
       "    .dataframe tbody tr th {\n",
       "        vertical-align: top;\n",
       "    }\n",
       "\n",
       "    .dataframe thead th {\n",
       "        text-align: right;\n",
       "    }\n",
       "</style>\n",
       "<table border=\"1\" class=\"dataframe\">\n",
       "  <thead>\n",
       "    <tr style=\"text-align: right;\">\n",
       "      <th></th>\n",
       "      <th>id</th>\n",
       "      <th>member_id</th>\n",
       "      <th>loan_amnt</th>\n",
       "      <th>funded_amnt</th>\n",
       "      <th>funded_amnt_inv</th>\n",
       "      <th>term</th>\n",
       "      <th>int_rate</th>\n",
       "      <th>installment</th>\n",
       "      <th>grade</th>\n",
       "      <th>sub_grade</th>\n",
       "      <th>...</th>\n",
       "      <th>num_tl_90g_dpd_24m</th>\n",
       "      <th>num_tl_op_past_12m</th>\n",
       "      <th>pct_tl_nvr_dlq</th>\n",
       "      <th>percent_bc_gt_75</th>\n",
       "      <th>pub_rec_bankruptcies</th>\n",
       "      <th>tax_liens</th>\n",
       "      <th>tot_hi_cred_lim</th>\n",
       "      <th>total_bal_ex_mort</th>\n",
       "      <th>total_bc_limit</th>\n",
       "      <th>total_il_high_credit_limit</th>\n",
       "    </tr>\n",
       "  </thead>\n",
       "  <tbody>\n",
       "    <tr>\n",
       "      <th>0</th>\n",
       "      <td>1077501</td>\n",
       "      <td>1296599</td>\n",
       "      <td>5000</td>\n",
       "      <td>5000</td>\n",
       "      <td>4975.0</td>\n",
       "      <td>36 months</td>\n",
       "      <td>10.65%</td>\n",
       "      <td>162.87</td>\n",
       "      <td>B</td>\n",
       "      <td>B2</td>\n",
       "      <td>...</td>\n",
       "      <td>NaN</td>\n",
       "      <td>NaN</td>\n",
       "      <td>NaN</td>\n",
       "      <td>NaN</td>\n",
       "      <td>0.0</td>\n",
       "      <td>0.0</td>\n",
       "      <td>NaN</td>\n",
       "      <td>NaN</td>\n",
       "      <td>NaN</td>\n",
       "      <td>NaN</td>\n",
       "    </tr>\n",
       "    <tr>\n",
       "      <th>1</th>\n",
       "      <td>1077430</td>\n",
       "      <td>1314167</td>\n",
       "      <td>2500</td>\n",
       "      <td>2500</td>\n",
       "      <td>2500.0</td>\n",
       "      <td>60 months</td>\n",
       "      <td>15.27%</td>\n",
       "      <td>59.83</td>\n",
       "      <td>C</td>\n",
       "      <td>C4</td>\n",
       "      <td>...</td>\n",
       "      <td>NaN</td>\n",
       "      <td>NaN</td>\n",
       "      <td>NaN</td>\n",
       "      <td>NaN</td>\n",
       "      <td>0.0</td>\n",
       "      <td>0.0</td>\n",
       "      <td>NaN</td>\n",
       "      <td>NaN</td>\n",
       "      <td>NaN</td>\n",
       "      <td>NaN</td>\n",
       "    </tr>\n",
       "    <tr>\n",
       "      <th>2</th>\n",
       "      <td>1077175</td>\n",
       "      <td>1313524</td>\n",
       "      <td>2400</td>\n",
       "      <td>2400</td>\n",
       "      <td>2400.0</td>\n",
       "      <td>36 months</td>\n",
       "      <td>15.96%</td>\n",
       "      <td>84.33</td>\n",
       "      <td>C</td>\n",
       "      <td>C5</td>\n",
       "      <td>...</td>\n",
       "      <td>NaN</td>\n",
       "      <td>NaN</td>\n",
       "      <td>NaN</td>\n",
       "      <td>NaN</td>\n",
       "      <td>0.0</td>\n",
       "      <td>0.0</td>\n",
       "      <td>NaN</td>\n",
       "      <td>NaN</td>\n",
       "      <td>NaN</td>\n",
       "      <td>NaN</td>\n",
       "    </tr>\n",
       "    <tr>\n",
       "      <th>3</th>\n",
       "      <td>1076863</td>\n",
       "      <td>1277178</td>\n",
       "      <td>10000</td>\n",
       "      <td>10000</td>\n",
       "      <td>10000.0</td>\n",
       "      <td>36 months</td>\n",
       "      <td>13.49%</td>\n",
       "      <td>339.31</td>\n",
       "      <td>C</td>\n",
       "      <td>C1</td>\n",
       "      <td>...</td>\n",
       "      <td>NaN</td>\n",
       "      <td>NaN</td>\n",
       "      <td>NaN</td>\n",
       "      <td>NaN</td>\n",
       "      <td>0.0</td>\n",
       "      <td>0.0</td>\n",
       "      <td>NaN</td>\n",
       "      <td>NaN</td>\n",
       "      <td>NaN</td>\n",
       "      <td>NaN</td>\n",
       "    </tr>\n",
       "    <tr>\n",
       "      <th>4</th>\n",
       "      <td>1075358</td>\n",
       "      <td>1311748</td>\n",
       "      <td>3000</td>\n",
       "      <td>3000</td>\n",
       "      <td>3000.0</td>\n",
       "      <td>60 months</td>\n",
       "      <td>12.69%</td>\n",
       "      <td>67.79</td>\n",
       "      <td>B</td>\n",
       "      <td>B5</td>\n",
       "      <td>...</td>\n",
       "      <td>NaN</td>\n",
       "      <td>NaN</td>\n",
       "      <td>NaN</td>\n",
       "      <td>NaN</td>\n",
       "      <td>0.0</td>\n",
       "      <td>0.0</td>\n",
       "      <td>NaN</td>\n",
       "      <td>NaN</td>\n",
       "      <td>NaN</td>\n",
       "      <td>NaN</td>\n",
       "    </tr>\n",
       "  </tbody>\n",
       "</table>\n",
       "<p>5 rows × 111 columns</p>\n",
       "</div>"
      ],
      "text/plain": [
       "        id  member_id  loan_amnt  funded_amnt  funded_amnt_inv        term  \\\n",
       "0  1077501    1296599       5000         5000           4975.0   36 months   \n",
       "1  1077430    1314167       2500         2500           2500.0   60 months   \n",
       "2  1077175    1313524       2400         2400           2400.0   36 months   \n",
       "3  1076863    1277178      10000        10000          10000.0   36 months   \n",
       "4  1075358    1311748       3000         3000           3000.0   60 months   \n",
       "\n",
       "  int_rate  installment grade sub_grade  ... num_tl_90g_dpd_24m  \\\n",
       "0   10.65%       162.87     B        B2  ...                NaN   \n",
       "1   15.27%        59.83     C        C4  ...                NaN   \n",
       "2   15.96%        84.33     C        C5  ...                NaN   \n",
       "3   13.49%       339.31     C        C1  ...                NaN   \n",
       "4   12.69%        67.79     B        B5  ...                NaN   \n",
       "\n",
       "  num_tl_op_past_12m pct_tl_nvr_dlq  percent_bc_gt_75 pub_rec_bankruptcies  \\\n",
       "0                NaN            NaN               NaN                  0.0   \n",
       "1                NaN            NaN               NaN                  0.0   \n",
       "2                NaN            NaN               NaN                  0.0   \n",
       "3                NaN            NaN               NaN                  0.0   \n",
       "4                NaN            NaN               NaN                  0.0   \n",
       "\n",
       "  tax_liens tot_hi_cred_lim total_bal_ex_mort total_bc_limit  \\\n",
       "0       0.0             NaN               NaN            NaN   \n",
       "1       0.0             NaN               NaN            NaN   \n",
       "2       0.0             NaN               NaN            NaN   \n",
       "3       0.0             NaN               NaN            NaN   \n",
       "4       0.0             NaN               NaN            NaN   \n",
       "\n",
       "  total_il_high_credit_limit  \n",
       "0                        NaN  \n",
       "1                        NaN  \n",
       "2                        NaN  \n",
       "3                        NaN  \n",
       "4                        NaN  \n",
       "\n",
       "[5 rows x 111 columns]"
      ]
     },
     "execution_count": 3,
     "metadata": {},
     "output_type": "execute_result"
    }
   ],
   "source": [
    "loan_df=pd.read_csv('./loan/loan.csv')\n",
    "loan_df.head()"
   ]
  },
  {
   "cell_type": "code",
   "execution_count": 4,
   "id": "13ddf54a",
   "metadata": {},
   "outputs": [
    {
     "name": "stdout",
     "output_type": "stream",
     "text": [
      "total_il_high_credit_limit\n"
     ]
    }
   ],
   "source": [
    "for x in loan_df.columns:\n",
    "    if 'high' in x.lower():\n",
    "        print(x)\n",
    "        "
   ]
  },
  {
   "cell_type": "markdown",
   "id": "11f5c16c",
   "metadata": {},
   "source": [
    "### check if there is some missing column /mismatch column wrt. data dictionary provided"
   ]
  },
  {
   "cell_type": "code",
   "execution_count": 5,
   "id": "da0c8288",
   "metadata": {},
   "outputs": [
    {
     "data": {
      "text/plain": [
       "{'total_rev_hi_lim', 'verification_status_joint'}"
      ]
     },
     "execution_count": 5,
     "metadata": {},
     "output_type": "execute_result"
    }
   ],
   "source": [
    "set(loan_df.columns)-set(dict_df.LoanStatNew)"
   ]
  },
  {
   "cell_type": "code",
   "execution_count": 6,
   "id": "ba0bb9f1",
   "metadata": {},
   "outputs": [
    {
     "data": {
      "text/plain": [
       "{'fico_range_high',\n",
       " 'fico_range_low',\n",
       " 'last_fico_range_high',\n",
       " 'last_fico_range_low',\n",
       " nan,\n",
       " 'total_rev_hi_lim \\xa0',\n",
       " 'verified_status_joint'}"
      ]
     },
     "execution_count": 6,
     "metadata": {},
     "output_type": "execute_result"
    }
   ],
   "source": [
    "set(dict_df.LoanStatNew)-set(loan_df.columns)"
   ]
  },
  {
   "cell_type": "markdown",
   "id": "8810aca7",
   "metadata": {},
   "source": [
    "###### seems like there is some Missing column and FICO values are also missing which could have been important parameter for this usecase."
   ]
  },
  {
   "cell_type": "code",
   "execution_count": 7,
   "id": "8f45d7aa",
   "metadata": {},
   "outputs": [
    {
     "data": {
      "text/plain": [
       "False"
      ]
     },
     "execution_count": 7,
     "metadata": {},
     "output_type": "execute_result"
    }
   ],
   "source": [
    "any(loan_df.columns.isna()) #check if some hidden empty colummns are present"
   ]
  },
  {
   "cell_type": "code",
   "execution_count": 8,
   "id": "77474865",
   "metadata": {},
   "outputs": [],
   "source": [
    "total_nulls=loan_df.isna().sum().sort_values()"
   ]
  },
  {
   "cell_type": "code",
   "execution_count": 9,
   "id": "8e8304b0",
   "metadata": {},
   "outputs": [
    {
     "data": {
      "text/plain": [
       "id                             0\n",
       "earliest_cr_line               0\n",
       "inq_last_6mths                 0\n",
       "open_acc                       0\n",
       "pub_rec                        0\n",
       "revol_bal                      0\n",
       "total_acc                      0\n",
       "initial_list_status            0\n",
       "out_prncp                      0\n",
       "out_prncp_inv                  0\n",
       "delinq_2yrs                    0\n",
       "total_pymnt                    0\n",
       "total_rec_int                  0\n",
       "total_rec_late_fee             0\n",
       "recoveries                     0\n",
       "collection_recovery_fee        0\n",
       "last_pymnt_amnt                0\n",
       "policy_code                    0\n",
       "application_type               0\n",
       "acc_now_delinq                 0\n",
       "delinq_amnt                    0\n",
       "total_pymnt_inv                0\n",
       "dti                            0\n",
       "total_rec_prncp                0\n",
       "zip_code                       0\n",
       "member_id                      0\n",
       "loan_amnt                      0\n",
       "addr_state                     0\n",
       "funded_amnt_inv                0\n",
       "term                           0\n",
       "int_rate                       0\n",
       "installment                    0\n",
       "grade                          0\n",
       "sub_grade                      0\n",
       "home_ownership                 0\n",
       "annual_inc                     0\n",
       "funded_amnt                    0\n",
       "issue_d                        0\n",
       "purpose                        0\n",
       "verification_status            0\n",
       "loan_status                    0\n",
       "pymnt_plan                     0\n",
       "url                            0\n",
       "last_credit_pull_d             2\n",
       "title                         11\n",
       "tax_liens                     39\n",
       "revol_util                    50\n",
       "collections_12_mths_ex_med    56\n",
       "chargeoff_within_12_mths      56\n",
       "last_pymnt_d                  71\n",
       "dtype: int64"
      ]
     },
     "execution_count": 9,
     "metadata": {},
     "output_type": "execute_result"
    }
   ],
   "source": [
    "col_with_less_na_count=total_nulls[:50]\n",
    "col_with_less_na_count"
   ]
  },
  {
   "cell_type": "code",
   "execution_count": 10,
   "id": "581b825a",
   "metadata": {},
   "outputs": [
    {
     "data": {
      "text/plain": [
       "Index(['pub_rec_bankruptcies', 'emp_length', 'emp_title', 'desc',\n",
       "       'mths_since_last_delinq', 'mths_since_last_record', 'next_pymnt_d',\n",
       "       'num_bc_sats', 'mths_since_recent_bc', 'mths_since_recent_bc_dlq',\n",
       "       'mths_since_recent_inq', 'mths_since_recent_revol_delinq',\n",
       "       'num_accts_ever_120_pd', 'num_actv_bc_tl', 'num_actv_rev_tl',\n",
       "       'mort_acc', 'num_bc_tl', 'num_tl_op_past_12m', 'num_op_rev_tl',\n",
       "       'num_rev_accts', 'num_rev_tl_bal_gt_0', 'num_sats', 'num_tl_120dpd_2m',\n",
       "       'num_tl_30dpd', 'num_tl_90g_dpd_24m', 'pct_tl_nvr_dlq',\n",
       "       'percent_bc_gt_75', 'tot_hi_cred_lim', 'total_bal_ex_mort',\n",
       "       'mo_sin_rcnt_tl', 'num_il_tl', 'mo_sin_rcnt_rev_tl_op',\n",
       "       'verification_status_joint', 'mo_sin_old_il_acct',\n",
       "       'mths_since_last_major_derog', 'annual_inc_joint', 'dti_joint',\n",
       "       'total_bc_limit', 'tot_coll_amt', 'tot_cur_bal', 'open_acc_6m',\n",
       "       'open_il_6m', 'open_il_12m', 'open_il_24m', 'mths_since_rcnt_il',\n",
       "       'total_bal_il', 'il_util', 'open_rv_12m', 'open_rv_24m', 'max_bal_bc',\n",
       "       'all_util', 'total_rev_hi_lim', 'inq_fi', 'total_cu_tl', 'inq_last_12m',\n",
       "       'acc_open_past_24mths', 'avg_cur_bal', 'bc_open_to_buy', 'bc_util',\n",
       "       'mo_sin_old_rev_tl_op', 'total_il_high_credit_limit'],\n",
       "      dtype='object')"
      ]
     },
     "execution_count": 10,
     "metadata": {},
     "output_type": "execute_result"
    }
   ],
   "source": [
    "col_with_more_na_count=total_nulls[50:]\n",
    "col_with_more_na_count.index"
   ]
  },
  {
   "cell_type": "code",
   "execution_count": 11,
   "id": "a8105e4a",
   "metadata": {},
   "outputs": [
    {
     "data": {
      "text/plain": [
       "0.0"
      ]
     },
     "execution_count": 11,
     "metadata": {},
     "output_type": "execute_result"
    }
   ],
   "source": [
    "loan_df.avg_cur_bal.sum()"
   ]
  },
  {
   "cell_type": "code",
   "execution_count": 12,
   "id": "627e75fa",
   "metadata": {},
   "outputs": [
    {
     "data": {
      "text/plain": [
       "(39717, 111)"
      ]
     },
     "execution_count": 12,
     "metadata": {},
     "output_type": "execute_result"
    }
   ],
   "source": [
    "loan_df.shape"
   ]
  },
  {
   "cell_type": "markdown",
   "id": "85d9e23d",
   "metadata": {},
   "source": [
    "some of the column are all null and making it difficult to visualize other important column so storing such information wont be any helpful to us lets drop those"
   ]
  },
  {
   "cell_type": "code",
   "execution_count": 13,
   "id": "fda193b6",
   "metadata": {},
   "outputs": [],
   "source": [
    "loan_df1=loan_df.dropna(how='all',axis=1)\n",
    "loan_df1=loan_df1.dropna(how='all')"
   ]
  },
  {
   "cell_type": "code",
   "execution_count": null,
   "id": "258b0b40",
   "metadata": {},
   "outputs": [],
   "source": []
  },
  {
   "cell_type": "code",
   "execution_count": 14,
   "id": "84ccb1db",
   "metadata": {},
   "outputs": [
    {
     "data": {
      "text/plain": [
       "(39717, 57)"
      ]
     },
     "execution_count": 14,
     "metadata": {},
     "output_type": "execute_result"
    }
   ],
   "source": [
    "loan_df1.shape"
   ]
  },
  {
   "cell_type": "markdown",
   "id": "e33013bd",
   "metadata": {},
   "source": [
    "Now lets see the null count for each column"
   ]
  },
  {
   "cell_type": "code",
   "execution_count": 15,
   "id": "b2cf2bb4",
   "metadata": {},
   "outputs": [
    {
     "data": {
      "text/plain": [
       "id                                0\n",
       "dti                               0\n",
       "delinq_2yrs                       0\n",
       "earliest_cr_line                  0\n",
       "inq_last_6mths                    0\n",
       "policy_code                       0\n",
       "open_acc                          0\n",
       "pub_rec                           0\n",
       "revol_bal                         0\n",
       "addr_state                        0\n",
       "last_pymnt_amnt                   0\n",
       "initial_list_status               0\n",
       "out_prncp                         0\n",
       "out_prncp_inv                     0\n",
       "total_pymnt                       0\n",
       "total_pymnt_inv                   0\n",
       "total_rec_prncp                   0\n",
       "total_rec_int                     0\n",
       "total_rec_late_fee                0\n",
       "total_acc                         0\n",
       "recoveries                        0\n",
       "zip_code                          0\n",
       "purpose                           0\n",
       "member_id                         0\n",
       "loan_amnt                         0\n",
       "funded_amnt                       0\n",
       "funded_amnt_inv                   0\n",
       "term                              0\n",
       "int_rate                          0\n",
       "installment                       0\n",
       "grade                             0\n",
       "sub_grade                         0\n",
       "delinq_amnt                       0\n",
       "home_ownership                    0\n",
       "annual_inc                        0\n",
       "verification_status               0\n",
       "issue_d                           0\n",
       "loan_status                       0\n",
       "pymnt_plan                        0\n",
       "url                               0\n",
       "application_type                  0\n",
       "acc_now_delinq                    0\n",
       "collection_recovery_fee           0\n",
       "last_credit_pull_d                2\n",
       "title                            11\n",
       "tax_liens                        39\n",
       "revol_util                       50\n",
       "collections_12_mths_ex_med       56\n",
       "chargeoff_within_12_mths         56\n",
       "last_pymnt_d                     71\n",
       "pub_rec_bankruptcies            697\n",
       "emp_length                     1075\n",
       "emp_title                      2459\n",
       "desc                          12940\n",
       "mths_since_last_delinq        25682\n",
       "mths_since_last_record        36931\n",
       "next_pymnt_d                  38577\n",
       "dtype: int64"
      ]
     },
     "execution_count": 15,
     "metadata": {},
     "output_type": "execute_result"
    }
   ],
   "source": [
    "loan_df1.isna().sum().sort_values()"
   ]
  },
  {
   "cell_type": "code",
   "execution_count": 16,
   "id": "6b56e0fb",
   "metadata": {},
   "outputs": [
    {
     "data": {
      "text/html": [
       "<div>\n",
       "<style scoped>\n",
       "    .dataframe tbody tr th:only-of-type {\n",
       "        vertical-align: middle;\n",
       "    }\n",
       "\n",
       "    .dataframe tbody tr th {\n",
       "        vertical-align: top;\n",
       "    }\n",
       "\n",
       "    .dataframe thead th {\n",
       "        text-align: right;\n",
       "    }\n",
       "</style>\n",
       "<table border=\"1\" class=\"dataframe\">\n",
       "  <thead>\n",
       "    <tr style=\"text-align: right;\">\n",
       "      <th></th>\n",
       "      <th>next_pymnt_d</th>\n",
       "      <th>last_pymnt_d</th>\n",
       "      <th>loan_status</th>\n",
       "    </tr>\n",
       "  </thead>\n",
       "  <tbody>\n",
       "    <tr>\n",
       "      <th>0</th>\n",
       "      <td>NaN</td>\n",
       "      <td>Jan-15</td>\n",
       "      <td>Fully Paid</td>\n",
       "    </tr>\n",
       "    <tr>\n",
       "      <th>1</th>\n",
       "      <td>NaN</td>\n",
       "      <td>Apr-13</td>\n",
       "      <td>Charged Off</td>\n",
       "    </tr>\n",
       "    <tr>\n",
       "      <th>2</th>\n",
       "      <td>NaN</td>\n",
       "      <td>Jun-14</td>\n",
       "      <td>Fully Paid</td>\n",
       "    </tr>\n",
       "    <tr>\n",
       "      <th>3</th>\n",
       "      <td>NaN</td>\n",
       "      <td>Jan-15</td>\n",
       "      <td>Fully Paid</td>\n",
       "    </tr>\n",
       "    <tr>\n",
       "      <th>4</th>\n",
       "      <td>Jun-16</td>\n",
       "      <td>May-16</td>\n",
       "      <td>Current</td>\n",
       "    </tr>\n",
       "    <tr>\n",
       "      <th>...</th>\n",
       "      <td>...</td>\n",
       "      <td>...</td>\n",
       "      <td>...</td>\n",
       "    </tr>\n",
       "    <tr>\n",
       "      <th>39712</th>\n",
       "      <td>NaN</td>\n",
       "      <td>Jul-10</td>\n",
       "      <td>Fully Paid</td>\n",
       "    </tr>\n",
       "    <tr>\n",
       "      <th>39713</th>\n",
       "      <td>NaN</td>\n",
       "      <td>Jul-10</td>\n",
       "      <td>Fully Paid</td>\n",
       "    </tr>\n",
       "    <tr>\n",
       "      <th>39714</th>\n",
       "      <td>NaN</td>\n",
       "      <td>Apr-08</td>\n",
       "      <td>Fully Paid</td>\n",
       "    </tr>\n",
       "    <tr>\n",
       "      <th>39715</th>\n",
       "      <td>NaN</td>\n",
       "      <td>Jan-08</td>\n",
       "      <td>Fully Paid</td>\n",
       "    </tr>\n",
       "    <tr>\n",
       "      <th>39716</th>\n",
       "      <td>NaN</td>\n",
       "      <td>Jun-10</td>\n",
       "      <td>Fully Paid</td>\n",
       "    </tr>\n",
       "  </tbody>\n",
       "</table>\n",
       "<p>39717 rows × 3 columns</p>\n",
       "</div>"
      ],
      "text/plain": [
       "      next_pymnt_d last_pymnt_d  loan_status\n",
       "0              NaN       Jan-15   Fully Paid\n",
       "1              NaN       Apr-13  Charged Off\n",
       "2              NaN       Jun-14   Fully Paid\n",
       "3              NaN       Jan-15   Fully Paid\n",
       "4           Jun-16       May-16      Current\n",
       "...            ...          ...          ...\n",
       "39712          NaN       Jul-10   Fully Paid\n",
       "39713          NaN       Jul-10   Fully Paid\n",
       "39714          NaN       Apr-08   Fully Paid\n",
       "39715          NaN       Jan-08   Fully Paid\n",
       "39716          NaN       Jun-10   Fully Paid\n",
       "\n",
       "[39717 rows x 3 columns]"
      ]
     },
     "execution_count": 16,
     "metadata": {},
     "output_type": "execute_result"
    }
   ],
   "source": [
    "loan_df1[['next_pymnt_d','last_pymnt_d','loan_status']]"
   ]
  },
  {
   "cell_type": "code",
   "execution_count": 17,
   "id": "6e233547",
   "metadata": {},
   "outputs": [
    {
     "data": {
      "text/plain": [
       "0.0    39661\n",
       "Name: chargeoff_within_12_mths, dtype: int64"
      ]
     },
     "execution_count": 17,
     "metadata": {},
     "output_type": "execute_result"
    }
   ],
   "source": [
    "loan_df1.chargeoff_within_12_mths.value_counts()"
   ]
  },
  {
   "cell_type": "markdown",
   "id": "aa78d980",
   "metadata": {},
   "source": [
    "#### There are some columns with high number of null count so wecan get rid of those directly and some columns which doesnot serve any information for our insight like Member_id,id,next_pymnt_d, etc we can remove these columns too.Lets keep this task for later when we will do bivariate analysis where we will do different complex calculations. For now lets begin with the sanity checks"
   ]
  },
  {
   "cell_type": "code",
   "execution_count": 18,
   "id": "2e0b8bca",
   "metadata": {},
   "outputs": [
    {
     "data": {
      "text/plain": [
       "0.0    39678\n",
       "Name: tax_liens, dtype: int64"
      ]
     },
     "execution_count": 18,
     "metadata": {},
     "output_type": "execute_result"
    }
   ],
   "source": [
    "loan_df1.tax_liens.value_counts()"
   ]
  },
  {
   "cell_type": "markdown",
   "id": "ef59bf2c",
   "metadata": {},
   "source": [
    "#### Doing some sanity check on the data "
   ]
  },
  {
   "cell_type": "code",
   "execution_count": 19,
   "id": "67177c02",
   "metadata": {},
   "outputs": [
    {
     "data": {
      "text/html": [
       "<div>\n",
       "<style scoped>\n",
       "    .dataframe tbody tr th:only-of-type {\n",
       "        vertical-align: middle;\n",
       "    }\n",
       "\n",
       "    .dataframe tbody tr th {\n",
       "        vertical-align: top;\n",
       "    }\n",
       "\n",
       "    .dataframe thead th {\n",
       "        text-align: right;\n",
       "    }\n",
       "</style>\n",
       "<table border=\"1\" class=\"dataframe\">\n",
       "  <thead>\n",
       "    <tr style=\"text-align: right;\">\n",
       "      <th></th>\n",
       "      <th>id</th>\n",
       "      <th>member_id</th>\n",
       "      <th>loan_amnt</th>\n",
       "      <th>funded_amnt</th>\n",
       "      <th>funded_amnt_inv</th>\n",
       "      <th>term</th>\n",
       "      <th>int_rate</th>\n",
       "      <th>installment</th>\n",
       "      <th>grade</th>\n",
       "      <th>sub_grade</th>\n",
       "      <th>...</th>\n",
       "      <th>next_pymnt_d</th>\n",
       "      <th>last_credit_pull_d</th>\n",
       "      <th>collections_12_mths_ex_med</th>\n",
       "      <th>policy_code</th>\n",
       "      <th>application_type</th>\n",
       "      <th>acc_now_delinq</th>\n",
       "      <th>chargeoff_within_12_mths</th>\n",
       "      <th>delinq_amnt</th>\n",
       "      <th>pub_rec_bankruptcies</th>\n",
       "      <th>tax_liens</th>\n",
       "    </tr>\n",
       "  </thead>\n",
       "  <tbody>\n",
       "  </tbody>\n",
       "</table>\n",
       "<p>0 rows × 57 columns</p>\n",
       "</div>"
      ],
      "text/plain": [
       "Empty DataFrame\n",
       "Columns: [id, member_id, loan_amnt, funded_amnt, funded_amnt_inv, term, int_rate, installment, grade, sub_grade, emp_title, emp_length, home_ownership, annual_inc, verification_status, issue_d, loan_status, pymnt_plan, url, desc, purpose, title, zip_code, addr_state, dti, delinq_2yrs, earliest_cr_line, inq_last_6mths, mths_since_last_delinq, mths_since_last_record, open_acc, pub_rec, revol_bal, revol_util, total_acc, initial_list_status, out_prncp, out_prncp_inv, total_pymnt, total_pymnt_inv, total_rec_prncp, total_rec_int, total_rec_late_fee, recoveries, collection_recovery_fee, last_pymnt_d, last_pymnt_amnt, next_pymnt_d, last_credit_pull_d, collections_12_mths_ex_med, policy_code, application_type, acc_now_delinq, chargeoff_within_12_mths, delinq_amnt, pub_rec_bankruptcies, tax_liens]\n",
       "Index: []\n",
       "\n",
       "[0 rows x 57 columns]"
      ]
     },
     "execution_count": 19,
     "metadata": {},
     "output_type": "execute_result"
    }
   ],
   "source": [
    "loan_df1[(loan_df1.loan_status=='Fully Paid')&(~loan_df1.next_pymnt_d.isna())] #pass"
   ]
  },
  {
   "cell_type": "code",
   "execution_count": 20,
   "id": "a850bd59",
   "metadata": {},
   "outputs": [
    {
     "data": {
      "text/html": [
       "<div>\n",
       "<style scoped>\n",
       "    .dataframe tbody tr th:only-of-type {\n",
       "        vertical-align: middle;\n",
       "    }\n",
       "\n",
       "    .dataframe tbody tr th {\n",
       "        vertical-align: top;\n",
       "    }\n",
       "\n",
       "    .dataframe thead th {\n",
       "        text-align: right;\n",
       "    }\n",
       "</style>\n",
       "<table border=\"1\" class=\"dataframe\">\n",
       "  <thead>\n",
       "    <tr style=\"text-align: right;\">\n",
       "      <th></th>\n",
       "      <th>id</th>\n",
       "      <th>member_id</th>\n",
       "      <th>loan_amnt</th>\n",
       "      <th>funded_amnt</th>\n",
       "      <th>funded_amnt_inv</th>\n",
       "      <th>term</th>\n",
       "      <th>int_rate</th>\n",
       "      <th>installment</th>\n",
       "      <th>grade</th>\n",
       "      <th>sub_grade</th>\n",
       "      <th>...</th>\n",
       "      <th>next_pymnt_d</th>\n",
       "      <th>last_credit_pull_d</th>\n",
       "      <th>collections_12_mths_ex_med</th>\n",
       "      <th>policy_code</th>\n",
       "      <th>application_type</th>\n",
       "      <th>acc_now_delinq</th>\n",
       "      <th>chargeoff_within_12_mths</th>\n",
       "      <th>delinq_amnt</th>\n",
       "      <th>pub_rec_bankruptcies</th>\n",
       "      <th>tax_liens</th>\n",
       "    </tr>\n",
       "  </thead>\n",
       "  <tbody>\n",
       "  </tbody>\n",
       "</table>\n",
       "<p>0 rows × 57 columns</p>\n",
       "</div>"
      ],
      "text/plain": [
       "Empty DataFrame\n",
       "Columns: [id, member_id, loan_amnt, funded_amnt, funded_amnt_inv, term, int_rate, installment, grade, sub_grade, emp_title, emp_length, home_ownership, annual_inc, verification_status, issue_d, loan_status, pymnt_plan, url, desc, purpose, title, zip_code, addr_state, dti, delinq_2yrs, earliest_cr_line, inq_last_6mths, mths_since_last_delinq, mths_since_last_record, open_acc, pub_rec, revol_bal, revol_util, total_acc, initial_list_status, out_prncp, out_prncp_inv, total_pymnt, total_pymnt_inv, total_rec_prncp, total_rec_int, total_rec_late_fee, recoveries, collection_recovery_fee, last_pymnt_d, last_pymnt_amnt, next_pymnt_d, last_credit_pull_d, collections_12_mths_ex_med, policy_code, application_type, acc_now_delinq, chargeoff_within_12_mths, delinq_amnt, pub_rec_bankruptcies, tax_liens]\n",
       "Index: []\n",
       "\n",
       "[0 rows x 57 columns]"
      ]
     },
     "execution_count": 20,
     "metadata": {},
     "output_type": "execute_result"
    }
   ],
   "source": [
    "loan_df1[(loan_df1.loan_status=='Current')&(loan_df1.next_pymnt_d.isna())] #pass"
   ]
  },
  {
   "cell_type": "code",
   "execution_count": 21,
   "id": "89836ea2",
   "metadata": {},
   "outputs": [
    {
     "data": {
      "text/html": [
       "<div>\n",
       "<style scoped>\n",
       "    .dataframe tbody tr th:only-of-type {\n",
       "        vertical-align: middle;\n",
       "    }\n",
       "\n",
       "    .dataframe tbody tr th {\n",
       "        vertical-align: top;\n",
       "    }\n",
       "\n",
       "    .dataframe thead th {\n",
       "        text-align: right;\n",
       "    }\n",
       "</style>\n",
       "<table border=\"1\" class=\"dataframe\">\n",
       "  <thead>\n",
       "    <tr style=\"text-align: right;\">\n",
       "      <th></th>\n",
       "      <th>id</th>\n",
       "      <th>member_id</th>\n",
       "      <th>loan_amnt</th>\n",
       "      <th>funded_amnt</th>\n",
       "      <th>funded_amnt_inv</th>\n",
       "      <th>term</th>\n",
       "      <th>int_rate</th>\n",
       "      <th>installment</th>\n",
       "      <th>grade</th>\n",
       "      <th>sub_grade</th>\n",
       "      <th>...</th>\n",
       "      <th>next_pymnt_d</th>\n",
       "      <th>last_credit_pull_d</th>\n",
       "      <th>collections_12_mths_ex_med</th>\n",
       "      <th>policy_code</th>\n",
       "      <th>application_type</th>\n",
       "      <th>acc_now_delinq</th>\n",
       "      <th>chargeoff_within_12_mths</th>\n",
       "      <th>delinq_amnt</th>\n",
       "      <th>pub_rec_bankruptcies</th>\n",
       "      <th>tax_liens</th>\n",
       "    </tr>\n",
       "  </thead>\n",
       "  <tbody>\n",
       "    <tr>\n",
       "      <th>61</th>\n",
       "      <td>1068934</td>\n",
       "      <td>1277395</td>\n",
       "      <td>17500</td>\n",
       "      <td>8950</td>\n",
       "      <td>8925.000000</td>\n",
       "      <td>60 months</td>\n",
       "      <td>17.27%</td>\n",
       "      <td>223.74</td>\n",
       "      <td>D</td>\n",
       "      <td>D3</td>\n",
       "      <td>...</td>\n",
       "      <td>NaN</td>\n",
       "      <td>Jan-16</td>\n",
       "      <td>0.0</td>\n",
       "      <td>1</td>\n",
       "      <td>INDIVIDUAL</td>\n",
       "      <td>0</td>\n",
       "      <td>0.0</td>\n",
       "      <td>0</td>\n",
       "      <td>0.0</td>\n",
       "      <td>0.0</td>\n",
       "    </tr>\n",
       "    <tr>\n",
       "      <th>66</th>\n",
       "      <td>1069093</td>\n",
       "      <td>1303740</td>\n",
       "      <td>12500</td>\n",
       "      <td>8925</td>\n",
       "      <td>8925.000000</td>\n",
       "      <td>60 months</td>\n",
       "      <td>17.27%</td>\n",
       "      <td>223.11</td>\n",
       "      <td>D</td>\n",
       "      <td>D3</td>\n",
       "      <td>...</td>\n",
       "      <td>NaN</td>\n",
       "      <td>May-16</td>\n",
       "      <td>0.0</td>\n",
       "      <td>1</td>\n",
       "      <td>INDIVIDUAL</td>\n",
       "      <td>0</td>\n",
       "      <td>0.0</td>\n",
       "      <td>0</td>\n",
       "      <td>1.0</td>\n",
       "      <td>0.0</td>\n",
       "    </tr>\n",
       "    <tr>\n",
       "      <th>70</th>\n",
       "      <td>1069043</td>\n",
       "      <td>1303486</td>\n",
       "      <td>20975</td>\n",
       "      <td>13575</td>\n",
       "      <td>13550.000000</td>\n",
       "      <td>60 months</td>\n",
       "      <td>17.58%</td>\n",
       "      <td>341.63</td>\n",
       "      <td>D</td>\n",
       "      <td>D4</td>\n",
       "      <td>...</td>\n",
       "      <td>NaN</td>\n",
       "      <td>Apr-14</td>\n",
       "      <td>0.0</td>\n",
       "      <td>1</td>\n",
       "      <td>INDIVIDUAL</td>\n",
       "      <td>0</td>\n",
       "      <td>0.0</td>\n",
       "      <td>0</td>\n",
       "      <td>1.0</td>\n",
       "      <td>0.0</td>\n",
       "    </tr>\n",
       "    <tr>\n",
       "      <th>77</th>\n",
       "      <td>1068416</td>\n",
       "      <td>1302799</td>\n",
       "      <td>7250</td>\n",
       "      <td>7200</td>\n",
       "      <td>7175.000000</td>\n",
       "      <td>60 months</td>\n",
       "      <td>21.67%</td>\n",
       "      <td>197.51</td>\n",
       "      <td>F</td>\n",
       "      <td>F3</td>\n",
       "      <td>...</td>\n",
       "      <td>NaN</td>\n",
       "      <td>Apr-16</td>\n",
       "      <td>0.0</td>\n",
       "      <td>1</td>\n",
       "      <td>INDIVIDUAL</td>\n",
       "      <td>0</td>\n",
       "      <td>0.0</td>\n",
       "      <td>0</td>\n",
       "      <td>1.0</td>\n",
       "      <td>0.0</td>\n",
       "    </tr>\n",
       "    <tr>\n",
       "      <th>80</th>\n",
       "      <td>1068994</td>\n",
       "      <td>1303432</td>\n",
       "      <td>35000</td>\n",
       "      <td>22075</td>\n",
       "      <td>22050.000000</td>\n",
       "      <td>60 months</td>\n",
       "      <td>17.27%</td>\n",
       "      <td>551.84</td>\n",
       "      <td>D</td>\n",
       "      <td>D3</td>\n",
       "      <td>...</td>\n",
       "      <td>NaN</td>\n",
       "      <td>Feb-14</td>\n",
       "      <td>0.0</td>\n",
       "      <td>1</td>\n",
       "      <td>INDIVIDUAL</td>\n",
       "      <td>0</td>\n",
       "      <td>0.0</td>\n",
       "      <td>0</td>\n",
       "      <td>0.0</td>\n",
       "      <td>0.0</td>\n",
       "    </tr>\n",
       "    <tr>\n",
       "      <th>...</th>\n",
       "      <td>...</td>\n",
       "      <td>...</td>\n",
       "      <td>...</td>\n",
       "      <td>...</td>\n",
       "      <td>...</td>\n",
       "      <td>...</td>\n",
       "      <td>...</td>\n",
       "      <td>...</td>\n",
       "      <td>...</td>\n",
       "      <td>...</td>\n",
       "      <td>...</td>\n",
       "      <td>...</td>\n",
       "      <td>...</td>\n",
       "      <td>...</td>\n",
       "      <td>...</td>\n",
       "      <td>...</td>\n",
       "      <td>...</td>\n",
       "      <td>...</td>\n",
       "      <td>...</td>\n",
       "      <td>...</td>\n",
       "      <td>...</td>\n",
       "    </tr>\n",
       "    <tr>\n",
       "      <th>39533</th>\n",
       "      <td>167645</td>\n",
       "      <td>163382</td>\n",
       "      <td>10000</td>\n",
       "      <td>6000</td>\n",
       "      <td>700.000000</td>\n",
       "      <td>36 months</td>\n",
       "      <td>8.70%</td>\n",
       "      <td>189.97</td>\n",
       "      <td>B</td>\n",
       "      <td>B1</td>\n",
       "      <td>...</td>\n",
       "      <td>NaN</td>\n",
       "      <td>Jul-15</td>\n",
       "      <td>0.0</td>\n",
       "      <td>1</td>\n",
       "      <td>INDIVIDUAL</td>\n",
       "      <td>0</td>\n",
       "      <td>0.0</td>\n",
       "      <td>0</td>\n",
       "      <td>NaN</td>\n",
       "      <td>0.0</td>\n",
       "    </tr>\n",
       "    <tr>\n",
       "      <th>39593</th>\n",
       "      <td>141774</td>\n",
       "      <td>141767</td>\n",
       "      <td>20000</td>\n",
       "      <td>4800</td>\n",
       "      <td>1949.999594</td>\n",
       "      <td>36 months</td>\n",
       "      <td>13.12%</td>\n",
       "      <td>162.01</td>\n",
       "      <td>D</td>\n",
       "      <td>D5</td>\n",
       "      <td>...</td>\n",
       "      <td>NaN</td>\n",
       "      <td>May-16</td>\n",
       "      <td>0.0</td>\n",
       "      <td>1</td>\n",
       "      <td>INDIVIDUAL</td>\n",
       "      <td>0</td>\n",
       "      <td>0.0</td>\n",
       "      <td>0</td>\n",
       "      <td>NaN</td>\n",
       "      <td>0.0</td>\n",
       "    </tr>\n",
       "    <tr>\n",
       "      <th>39600</th>\n",
       "      <td>140036</td>\n",
       "      <td>140027</td>\n",
       "      <td>4000</td>\n",
       "      <td>1000</td>\n",
       "      <td>550.000000</td>\n",
       "      <td>36 months</td>\n",
       "      <td>9.96%</td>\n",
       "      <td>32.25</td>\n",
       "      <td>B</td>\n",
       "      <td>B5</td>\n",
       "      <td>...</td>\n",
       "      <td>NaN</td>\n",
       "      <td>May-16</td>\n",
       "      <td>0.0</td>\n",
       "      <td>1</td>\n",
       "      <td>INDIVIDUAL</td>\n",
       "      <td>0</td>\n",
       "      <td>0.0</td>\n",
       "      <td>0</td>\n",
       "      <td>NaN</td>\n",
       "      <td>0.0</td>\n",
       "    </tr>\n",
       "    <tr>\n",
       "      <th>39601</th>\n",
       "      <td>139980</td>\n",
       "      <td>139977</td>\n",
       "      <td>12000</td>\n",
       "      <td>5000</td>\n",
       "      <td>1399.996684</td>\n",
       "      <td>36 months</td>\n",
       "      <td>10.91%</td>\n",
       "      <td>163.49</td>\n",
       "      <td>C</td>\n",
       "      <td>C3</td>\n",
       "      <td>...</td>\n",
       "      <td>NaN</td>\n",
       "      <td>Aug-10</td>\n",
       "      <td>0.0</td>\n",
       "      <td>1</td>\n",
       "      <td>INDIVIDUAL</td>\n",
       "      <td>0</td>\n",
       "      <td>0.0</td>\n",
       "      <td>0</td>\n",
       "      <td>NaN</td>\n",
       "      <td>0.0</td>\n",
       "    </tr>\n",
       "    <tr>\n",
       "      <th>39611</th>\n",
       "      <td>137042</td>\n",
       "      <td>136922</td>\n",
       "      <td>25000</td>\n",
       "      <td>5650</td>\n",
       "      <td>725.000000</td>\n",
       "      <td>36 months</td>\n",
       "      <td>14.38%</td>\n",
       "      <td>194.15</td>\n",
       "      <td>E</td>\n",
       "      <td>E4</td>\n",
       "      <td>...</td>\n",
       "      <td>NaN</td>\n",
       "      <td>Oct-10</td>\n",
       "      <td>0.0</td>\n",
       "      <td>1</td>\n",
       "      <td>INDIVIDUAL</td>\n",
       "      <td>0</td>\n",
       "      <td>0.0</td>\n",
       "      <td>0</td>\n",
       "      <td>NaN</td>\n",
       "      <td>0.0</td>\n",
       "    </tr>\n",
       "  </tbody>\n",
       "</table>\n",
       "<p>1849 rows × 57 columns</p>\n",
       "</div>"
      ],
      "text/plain": [
       "            id  member_id  loan_amnt  funded_amnt  funded_amnt_inv  \\\n",
       "61     1068934    1277395      17500         8950      8925.000000   \n",
       "66     1069093    1303740      12500         8925      8925.000000   \n",
       "70     1069043    1303486      20975        13575     13550.000000   \n",
       "77     1068416    1302799       7250         7200      7175.000000   \n",
       "80     1068994    1303432      35000        22075     22050.000000   \n",
       "...        ...        ...        ...          ...              ...   \n",
       "39533   167645     163382      10000         6000       700.000000   \n",
       "39593   141774     141767      20000         4800      1949.999594   \n",
       "39600   140036     140027       4000         1000       550.000000   \n",
       "39601   139980     139977      12000         5000      1399.996684   \n",
       "39611   137042     136922      25000         5650       725.000000   \n",
       "\n",
       "             term int_rate  installment grade sub_grade  ... next_pymnt_d  \\\n",
       "61      60 months   17.27%       223.74     D        D3  ...          NaN   \n",
       "66      60 months   17.27%       223.11     D        D3  ...          NaN   \n",
       "70      60 months   17.58%       341.63     D        D4  ...          NaN   \n",
       "77      60 months   21.67%       197.51     F        F3  ...          NaN   \n",
       "80      60 months   17.27%       551.84     D        D3  ...          NaN   \n",
       "...           ...      ...          ...   ...       ...  ...          ...   \n",
       "39533   36 months    8.70%       189.97     B        B1  ...          NaN   \n",
       "39593   36 months   13.12%       162.01     D        D5  ...          NaN   \n",
       "39600   36 months    9.96%        32.25     B        B5  ...          NaN   \n",
       "39601   36 months   10.91%       163.49     C        C3  ...          NaN   \n",
       "39611   36 months   14.38%       194.15     E        E4  ...          NaN   \n",
       "\n",
       "      last_credit_pull_d collections_12_mths_ex_med  policy_code  \\\n",
       "61                Jan-16                        0.0            1   \n",
       "66                May-16                        0.0            1   \n",
       "70                Apr-14                        0.0            1   \n",
       "77                Apr-16                        0.0            1   \n",
       "80                Feb-14                        0.0            1   \n",
       "...                  ...                        ...          ...   \n",
       "39533             Jul-15                        0.0            1   \n",
       "39593             May-16                        0.0            1   \n",
       "39600             May-16                        0.0            1   \n",
       "39601             Aug-10                        0.0            1   \n",
       "39611             Oct-10                        0.0            1   \n",
       "\n",
       "      application_type acc_now_delinq chargeoff_within_12_mths delinq_amnt  \\\n",
       "61          INDIVIDUAL              0                      0.0           0   \n",
       "66          INDIVIDUAL              0                      0.0           0   \n",
       "70          INDIVIDUAL              0                      0.0           0   \n",
       "77          INDIVIDUAL              0                      0.0           0   \n",
       "80          INDIVIDUAL              0                      0.0           0   \n",
       "...                ...            ...                      ...         ...   \n",
       "39533       INDIVIDUAL              0                      0.0           0   \n",
       "39593       INDIVIDUAL              0                      0.0           0   \n",
       "39600       INDIVIDUAL              0                      0.0           0   \n",
       "39601       INDIVIDUAL              0                      0.0           0   \n",
       "39611       INDIVIDUAL              0                      0.0           0   \n",
       "\n",
       "      pub_rec_bankruptcies tax_liens  \n",
       "61                     0.0       0.0  \n",
       "66                     1.0       0.0  \n",
       "70                     1.0       0.0  \n",
       "77                     1.0       0.0  \n",
       "80                     0.0       0.0  \n",
       "...                    ...       ...  \n",
       "39533                  NaN       0.0  \n",
       "39593                  NaN       0.0  \n",
       "39600                  NaN       0.0  \n",
       "39601                  NaN       0.0  \n",
       "39611                  NaN       0.0  \n",
       "\n",
       "[1849 rows x 57 columns]"
      ]
     },
     "execution_count": 21,
     "metadata": {},
     "output_type": "execute_result"
    }
   ],
   "source": [
    "more_loandf=loan_df1[loan_df1.loan_amnt>loan_df1.funded_amnt]\n",
    "# loan amount is more than funded amount is this valid ??? No i guess because \n",
    "# no body will give you more loan than what you asked for.\n",
    "more_loandf"
   ]
  },
  {
   "cell_type": "code",
   "execution_count": 22,
   "id": "2c435293",
   "metadata": {},
   "outputs": [],
   "source": [
    "loan_df2=loan_df1[loan_df1.loan_amnt==loan_df1.funded_amnt]\n"
   ]
  },
  {
   "cell_type": "code",
   "execution_count": 23,
   "id": "f6f19c90",
   "metadata": {},
   "outputs": [
    {
     "data": {
      "text/plain": [
       "id                                0\n",
       "dti                               0\n",
       "delinq_2yrs                       0\n",
       "earliest_cr_line                  0\n",
       "inq_last_6mths                    0\n",
       "policy_code                       0\n",
       "open_acc                          0\n",
       "pub_rec                           0\n",
       "revol_bal                         0\n",
       "addr_state                        0\n",
       "last_pymnt_amnt                   0\n",
       "initial_list_status               0\n",
       "out_prncp                         0\n",
       "out_prncp_inv                     0\n",
       "total_pymnt                       0\n",
       "total_pymnt_inv                   0\n",
       "total_rec_prncp                   0\n",
       "total_rec_int                     0\n",
       "total_rec_late_fee                0\n",
       "total_acc                         0\n",
       "recoveries                        0\n",
       "zip_code                          0\n",
       "purpose                           0\n",
       "member_id                         0\n",
       "loan_amnt                         0\n",
       "funded_amnt                       0\n",
       "funded_amnt_inv                   0\n",
       "term                              0\n",
       "int_rate                          0\n",
       "installment                       0\n",
       "grade                             0\n",
       "sub_grade                         0\n",
       "delinq_amnt                       0\n",
       "home_ownership                    0\n",
       "annual_inc                        0\n",
       "verification_status               0\n",
       "issue_d                           0\n",
       "loan_status                       0\n",
       "pymnt_plan                        0\n",
       "url                               0\n",
       "application_type                  0\n",
       "acc_now_delinq                    0\n",
       "collection_recovery_fee           0\n",
       "last_credit_pull_d                2\n",
       "title                            10\n",
       "tax_liens                        39\n",
       "revol_util                       50\n",
       "collections_12_mths_ex_med       56\n",
       "chargeoff_within_12_mths         56\n",
       "last_pymnt_d                     71\n",
       "pub_rec_bankruptcies            687\n",
       "emp_length                     1042\n",
       "emp_title                      2350\n",
       "desc                          12492\n",
       "mths_since_last_delinq        24401\n",
       "mths_since_last_record        35183\n",
       "next_pymnt_d                  36820\n",
       "dtype: int64"
      ]
     },
     "execution_count": 23,
     "metadata": {},
     "output_type": "execute_result"
    }
   ],
   "source": [
    "loan_df2.isna().sum().sort_values()"
   ]
  },
  {
   "cell_type": "code",
   "execution_count": 24,
   "id": "1538e7c9",
   "metadata": {},
   "outputs": [
    {
     "data": {
      "text/plain": [
       "(37868, 57)"
      ]
     },
     "execution_count": 24,
     "metadata": {},
     "output_type": "execute_result"
    }
   ],
   "source": [
    "loan_df2.shape"
   ]
  },
  {
   "cell_type": "code",
   "execution_count": 25,
   "id": "f9c857bb",
   "metadata": {},
   "outputs": [
    {
     "data": {
      "text/html": [
       "<div>\n",
       "<style scoped>\n",
       "    .dataframe tbody tr th:only-of-type {\n",
       "        vertical-align: middle;\n",
       "    }\n",
       "\n",
       "    .dataframe tbody tr th {\n",
       "        vertical-align: top;\n",
       "    }\n",
       "\n",
       "    .dataframe thead th {\n",
       "        text-align: right;\n",
       "    }\n",
       "</style>\n",
       "<table border=\"1\" class=\"dataframe\">\n",
       "  <thead>\n",
       "    <tr style=\"text-align: right;\">\n",
       "      <th></th>\n",
       "      <th>id</th>\n",
       "      <th>member_id</th>\n",
       "      <th>loan_amnt</th>\n",
       "      <th>funded_amnt</th>\n",
       "      <th>funded_amnt_inv</th>\n",
       "      <th>installment</th>\n",
       "      <th>annual_inc</th>\n",
       "      <th>dti</th>\n",
       "      <th>delinq_2yrs</th>\n",
       "      <th>inq_last_6mths</th>\n",
       "      <th>...</th>\n",
       "      <th>recoveries</th>\n",
       "      <th>collection_recovery_fee</th>\n",
       "      <th>last_pymnt_amnt</th>\n",
       "      <th>collections_12_mths_ex_med</th>\n",
       "      <th>policy_code</th>\n",
       "      <th>acc_now_delinq</th>\n",
       "      <th>chargeoff_within_12_mths</th>\n",
       "      <th>delinq_amnt</th>\n",
       "      <th>pub_rec_bankruptcies</th>\n",
       "      <th>tax_liens</th>\n",
       "    </tr>\n",
       "  </thead>\n",
       "  <tbody>\n",
       "    <tr>\n",
       "      <th>count</th>\n",
       "      <td>3.786800e+04</td>\n",
       "      <td>3.786800e+04</td>\n",
       "      <td>37868.000000</td>\n",
       "      <td>37868.000000</td>\n",
       "      <td>37868.000000</td>\n",
       "      <td>37868.000000</td>\n",
       "      <td>3.786800e+04</td>\n",
       "      <td>37868.000000</td>\n",
       "      <td>37868.000000</td>\n",
       "      <td>37868.000000</td>\n",
       "      <td>...</td>\n",
       "      <td>37868.000000</td>\n",
       "      <td>37868.000000</td>\n",
       "      <td>37868.000000</td>\n",
       "      <td>37812.0</td>\n",
       "      <td>37868.0</td>\n",
       "      <td>37868.0</td>\n",
       "      <td>37812.0</td>\n",
       "      <td>37868.0</td>\n",
       "      <td>37181.000000</td>\n",
       "      <td>37829.0</td>\n",
       "    </tr>\n",
       "    <tr>\n",
       "      <th>mean</th>\n",
       "      <td>6.857123e+05</td>\n",
       "      <td>8.535837e+05</td>\n",
       "      <td>10844.408207</td>\n",
       "      <td>10844.408207</td>\n",
       "      <td>10314.649806</td>\n",
       "      <td>323.689407</td>\n",
       "      <td>6.821043e+04</td>\n",
       "      <td>13.297135</td>\n",
       "      <td>0.147169</td>\n",
       "      <td>0.869256</td>\n",
       "      <td>...</td>\n",
       "      <td>92.806210</td>\n",
       "      <td>12.258594</td>\n",
       "      <td>2636.097482</td>\n",
       "      <td>0.0</td>\n",
       "      <td>1.0</td>\n",
       "      <td>0.0</td>\n",
       "      <td>0.0</td>\n",
       "      <td>0.0</td>\n",
       "      <td>0.043194</td>\n",
       "      <td>0.0</td>\n",
       "    </tr>\n",
       "    <tr>\n",
       "      <th>std</th>\n",
       "      <td>2.118310e+05</td>\n",
       "      <td>2.666375e+05</td>\n",
       "      <td>7229.445777</td>\n",
       "      <td>7229.445777</td>\n",
       "      <td>7147.258295</td>\n",
       "      <td>211.071815</td>\n",
       "      <td>6.121633e+04</td>\n",
       "      <td>6.679910</td>\n",
       "      <td>0.493944</td>\n",
       "      <td>1.069405</td>\n",
       "      <td>...</td>\n",
       "      <td>680.510246</td>\n",
       "      <td>149.088186</td>\n",
       "      <td>4413.129587</td>\n",
       "      <td>0.0</td>\n",
       "      <td>0.0</td>\n",
       "      <td>0.0</td>\n",
       "      <td>0.0</td>\n",
       "      <td>0.0</td>\n",
       "      <td>0.204089</td>\n",
       "      <td>0.0</td>\n",
       "    </tr>\n",
       "    <tr>\n",
       "      <th>min</th>\n",
       "      <td>5.473400e+04</td>\n",
       "      <td>7.069900e+04</td>\n",
       "      <td>500.000000</td>\n",
       "      <td>500.000000</td>\n",
       "      <td>0.000000</td>\n",
       "      <td>15.690000</td>\n",
       "      <td>4.000000e+03</td>\n",
       "      <td>0.000000</td>\n",
       "      <td>0.000000</td>\n",
       "      <td>0.000000</td>\n",
       "      <td>...</td>\n",
       "      <td>0.000000</td>\n",
       "      <td>0.000000</td>\n",
       "      <td>0.000000</td>\n",
       "      <td>0.0</td>\n",
       "      <td>1.0</td>\n",
       "      <td>0.0</td>\n",
       "      <td>0.0</td>\n",
       "      <td>0.0</td>\n",
       "      <td>0.000000</td>\n",
       "      <td>0.0</td>\n",
       "    </tr>\n",
       "    <tr>\n",
       "      <th>25%</th>\n",
       "      <td>5.136775e+05</td>\n",
       "      <td>6.631685e+05</td>\n",
       "      <td>5000.000000</td>\n",
       "      <td>5000.000000</td>\n",
       "      <td>5000.000000</td>\n",
       "      <td>164.850000</td>\n",
       "      <td>4.000000e+04</td>\n",
       "      <td>8.160000</td>\n",
       "      <td>0.000000</td>\n",
       "      <td>0.000000</td>\n",
       "      <td>...</td>\n",
       "      <td>0.000000</td>\n",
       "      <td>0.000000</td>\n",
       "      <td>216.117500</td>\n",
       "      <td>0.0</td>\n",
       "      <td>1.0</td>\n",
       "      <td>0.0</td>\n",
       "      <td>0.0</td>\n",
       "      <td>0.0</td>\n",
       "      <td>0.000000</td>\n",
       "      <td>0.0</td>\n",
       "    </tr>\n",
       "    <tr>\n",
       "      <th>50%</th>\n",
       "      <td>6.710135e+05</td>\n",
       "      <td>8.575090e+05</td>\n",
       "      <td>9500.000000</td>\n",
       "      <td>9500.000000</td>\n",
       "      <td>8700.000000</td>\n",
       "      <td>278.085000</td>\n",
       "      <td>5.800000e+04</td>\n",
       "      <td>13.370000</td>\n",
       "      <td>0.000000</td>\n",
       "      <td>1.000000</td>\n",
       "      <td>...</td>\n",
       "      <td>0.000000</td>\n",
       "      <td>0.000000</td>\n",
       "      <td>541.080000</td>\n",
       "      <td>0.0</td>\n",
       "      <td>1.0</td>\n",
       "      <td>0.0</td>\n",
       "      <td>0.0</td>\n",
       "      <td>0.0</td>\n",
       "      <td>0.000000</td>\n",
       "      <td>0.0</td>\n",
       "    </tr>\n",
       "    <tr>\n",
       "      <th>75%</th>\n",
       "      <td>8.412760e+05</td>\n",
       "      <td>1.051266e+06</td>\n",
       "      <td>15000.000000</td>\n",
       "      <td>15000.000000</td>\n",
       "      <td>14100.000000</td>\n",
       "      <td>429.860000</td>\n",
       "      <td>8.100000e+04</td>\n",
       "      <td>18.580000</td>\n",
       "      <td>0.000000</td>\n",
       "      <td>1.000000</td>\n",
       "      <td>...</td>\n",
       "      <td>0.000000</td>\n",
       "      <td>0.000000</td>\n",
       "      <td>3217.762500</td>\n",
       "      <td>0.0</td>\n",
       "      <td>1.0</td>\n",
       "      <td>0.0</td>\n",
       "      <td>0.0</td>\n",
       "      <td>0.0</td>\n",
       "      <td>0.000000</td>\n",
       "      <td>0.0</td>\n",
       "    </tr>\n",
       "    <tr>\n",
       "      <th>max</th>\n",
       "      <td>1.077501e+06</td>\n",
       "      <td>1.314167e+06</td>\n",
       "      <td>35000.000000</td>\n",
       "      <td>35000.000000</td>\n",
       "      <td>35000.000000</td>\n",
       "      <td>1305.190000</td>\n",
       "      <td>6.000000e+06</td>\n",
       "      <td>29.990000</td>\n",
       "      <td>11.000000</td>\n",
       "      <td>8.000000</td>\n",
       "      <td>...</td>\n",
       "      <td>29623.350000</td>\n",
       "      <td>7002.190000</td>\n",
       "      <td>36115.200000</td>\n",
       "      <td>0.0</td>\n",
       "      <td>1.0</td>\n",
       "      <td>0.0</td>\n",
       "      <td>0.0</td>\n",
       "      <td>0.0</td>\n",
       "      <td>2.000000</td>\n",
       "      <td>0.0</td>\n",
       "    </tr>\n",
       "  </tbody>\n",
       "</table>\n",
       "<p>8 rows × 33 columns</p>\n",
       "</div>"
      ],
      "text/plain": [
       "                 id     member_id     loan_amnt   funded_amnt  \\\n",
       "count  3.786800e+04  3.786800e+04  37868.000000  37868.000000   \n",
       "mean   6.857123e+05  8.535837e+05  10844.408207  10844.408207   \n",
       "std    2.118310e+05  2.666375e+05   7229.445777   7229.445777   \n",
       "min    5.473400e+04  7.069900e+04    500.000000    500.000000   \n",
       "25%    5.136775e+05  6.631685e+05   5000.000000   5000.000000   \n",
       "50%    6.710135e+05  8.575090e+05   9500.000000   9500.000000   \n",
       "75%    8.412760e+05  1.051266e+06  15000.000000  15000.000000   \n",
       "max    1.077501e+06  1.314167e+06  35000.000000  35000.000000   \n",
       "\n",
       "       funded_amnt_inv   installment    annual_inc           dti  \\\n",
       "count     37868.000000  37868.000000  3.786800e+04  37868.000000   \n",
       "mean      10314.649806    323.689407  6.821043e+04     13.297135   \n",
       "std        7147.258295    211.071815  6.121633e+04      6.679910   \n",
       "min           0.000000     15.690000  4.000000e+03      0.000000   \n",
       "25%        5000.000000    164.850000  4.000000e+04      8.160000   \n",
       "50%        8700.000000    278.085000  5.800000e+04     13.370000   \n",
       "75%       14100.000000    429.860000  8.100000e+04     18.580000   \n",
       "max       35000.000000   1305.190000  6.000000e+06     29.990000   \n",
       "\n",
       "        delinq_2yrs  inq_last_6mths  ...    recoveries  \\\n",
       "count  37868.000000    37868.000000  ...  37868.000000   \n",
       "mean       0.147169        0.869256  ...     92.806210   \n",
       "std        0.493944        1.069405  ...    680.510246   \n",
       "min        0.000000        0.000000  ...      0.000000   \n",
       "25%        0.000000        0.000000  ...      0.000000   \n",
       "50%        0.000000        1.000000  ...      0.000000   \n",
       "75%        0.000000        1.000000  ...      0.000000   \n",
       "max       11.000000        8.000000  ...  29623.350000   \n",
       "\n",
       "       collection_recovery_fee  last_pymnt_amnt  collections_12_mths_ex_med  \\\n",
       "count             37868.000000     37868.000000                     37812.0   \n",
       "mean                 12.258594      2636.097482                         0.0   \n",
       "std                 149.088186      4413.129587                         0.0   \n",
       "min                   0.000000         0.000000                         0.0   \n",
       "25%                   0.000000       216.117500                         0.0   \n",
       "50%                   0.000000       541.080000                         0.0   \n",
       "75%                   0.000000      3217.762500                         0.0   \n",
       "max                7002.190000     36115.200000                         0.0   \n",
       "\n",
       "       policy_code  acc_now_delinq  chargeoff_within_12_mths  delinq_amnt  \\\n",
       "count      37868.0         37868.0                   37812.0      37868.0   \n",
       "mean           1.0             0.0                       0.0          0.0   \n",
       "std            0.0             0.0                       0.0          0.0   \n",
       "min            1.0             0.0                       0.0          0.0   \n",
       "25%            1.0             0.0                       0.0          0.0   \n",
       "50%            1.0             0.0                       0.0          0.0   \n",
       "75%            1.0             0.0                       0.0          0.0   \n",
       "max            1.0             0.0                       0.0          0.0   \n",
       "\n",
       "       pub_rec_bankruptcies  tax_liens  \n",
       "count          37181.000000    37829.0  \n",
       "mean               0.043194        0.0  \n",
       "std                0.204089        0.0  \n",
       "min                0.000000        0.0  \n",
       "25%                0.000000        0.0  \n",
       "50%                0.000000        0.0  \n",
       "75%                0.000000        0.0  \n",
       "max                2.000000        0.0  \n",
       "\n",
       "[8 rows x 33 columns]"
      ]
     },
     "execution_count": 25,
     "metadata": {},
     "output_type": "execute_result"
    }
   ],
   "source": [
    "loan_df2.describe() # trying for locating outliers quickly if possible"
   ]
  },
  {
   "cell_type": "code",
   "execution_count": 26,
   "id": "f58106c4",
   "metadata": {},
   "outputs": [
    {
     "name": "stdout",
     "output_type": "stream",
     "text": [
      "<class 'pandas.core.frame.DataFrame'>\n",
      "Int64Index: 37868 entries, 0 to 39716\n",
      "Data columns (total 57 columns):\n",
      " #   Column                      Non-Null Count  Dtype  \n",
      "---  ------                      --------------  -----  \n",
      " 0   id                          37868 non-null  int64  \n",
      " 1   member_id                   37868 non-null  int64  \n",
      " 2   loan_amnt                   37868 non-null  int64  \n",
      " 3   funded_amnt                 37868 non-null  int64  \n",
      " 4   funded_amnt_inv             37868 non-null  float64\n",
      " 5   term                        37868 non-null  object \n",
      " 6   int_rate                    37868 non-null  object \n",
      " 7   installment                 37868 non-null  float64\n",
      " 8   grade                       37868 non-null  object \n",
      " 9   sub_grade                   37868 non-null  object \n",
      " 10  emp_title                   35518 non-null  object \n",
      " 11  emp_length                  36826 non-null  object \n",
      " 12  home_ownership              37868 non-null  object \n",
      " 13  annual_inc                  37868 non-null  float64\n",
      " 14  verification_status         37868 non-null  object \n",
      " 15  issue_d                     37868 non-null  object \n",
      " 16  loan_status                 37868 non-null  object \n",
      " 17  pymnt_plan                  37868 non-null  object \n",
      " 18  url                         37868 non-null  object \n",
      " 19  desc                        25376 non-null  object \n",
      " 20  purpose                     37868 non-null  object \n",
      " 21  title                       37858 non-null  object \n",
      " 22  zip_code                    37868 non-null  object \n",
      " 23  addr_state                  37868 non-null  object \n",
      " 24  dti                         37868 non-null  float64\n",
      " 25  delinq_2yrs                 37868 non-null  int64  \n",
      " 26  earliest_cr_line            37868 non-null  object \n",
      " 27  inq_last_6mths              37868 non-null  int64  \n",
      " 28  mths_since_last_delinq      13467 non-null  float64\n",
      " 29  mths_since_last_record      2685 non-null   float64\n",
      " 30  open_acc                    37868 non-null  int64  \n",
      " 31  pub_rec                     37868 non-null  int64  \n",
      " 32  revol_bal                   37868 non-null  int64  \n",
      " 33  revol_util                  37818 non-null  object \n",
      " 34  total_acc                   37868 non-null  int64  \n",
      " 35  initial_list_status         37868 non-null  object \n",
      " 36  out_prncp                   37868 non-null  float64\n",
      " 37  out_prncp_inv               37868 non-null  float64\n",
      " 38  total_pymnt                 37868 non-null  float64\n",
      " 39  total_pymnt_inv             37868 non-null  float64\n",
      " 40  total_rec_prncp             37868 non-null  float64\n",
      " 41  total_rec_int               37868 non-null  float64\n",
      " 42  total_rec_late_fee          37868 non-null  float64\n",
      " 43  recoveries                  37868 non-null  float64\n",
      " 44  collection_recovery_fee     37868 non-null  float64\n",
      " 45  last_pymnt_d                37797 non-null  object \n",
      " 46  last_pymnt_amnt             37868 non-null  float64\n",
      " 47  next_pymnt_d                1048 non-null   object \n",
      " 48  last_credit_pull_d          37866 non-null  object \n",
      " 49  collections_12_mths_ex_med  37812 non-null  float64\n",
      " 50  policy_code                 37868 non-null  int64  \n",
      " 51  application_type            37868 non-null  object \n",
      " 52  acc_now_delinq              37868 non-null  int64  \n",
      " 53  chargeoff_within_12_mths    37812 non-null  float64\n",
      " 54  delinq_amnt                 37868 non-null  int64  \n",
      " 55  pub_rec_bankruptcies        37181 non-null  float64\n",
      " 56  tax_liens                   37829 non-null  float64\n",
      "dtypes: float64(20), int64(13), object(24)\n",
      "memory usage: 16.8+ MB\n"
     ]
    }
   ],
   "source": [
    "loan_df2.info()"
   ]
  },
  {
   "cell_type": "markdown",
   "id": "f76c1ee2",
   "metadata": {},
   "source": [
    "If we observe now, we can see that the data type for the various column doesnot seems to be aligned for eg \n",
    "\n",
    "> int-rate : should be float not object\n",
    "\n",
    "> term,emp-lenght,zip_code: should be int not object \n",
    "\n",
    "> issue_d,last_pymnt_d,next_payment_d : should be datetime not object"
   ]
  },
  {
   "cell_type": "code",
   "execution_count": 27,
   "id": "dbc8acdc",
   "metadata": {},
   "outputs": [
    {
     "data": {
      "text/plain": [
       "Fully Paid     55\n",
       "Charged Off    51\n",
       "Current         4\n",
       "Name: loan_status, dtype: int64"
      ]
     },
     "execution_count": 27,
     "metadata": {},
     "output_type": "execute_result"
    }
   ],
   "source": [
    "loan_df2[loan_df2.sub_grade=='F5']['loan_status'].value_counts()"
   ]
  },
  {
   "cell_type": "code",
   "execution_count": 28,
   "id": "ddff40ad",
   "metadata": {},
   "outputs": [
    {
     "name": "stderr",
     "output_type": "stream",
     "text": [
      "C:\\Users\\prason.ghimire\\AppData\\Local\\Temp\\ipykernel_21752\\2144684674.py:1: SettingWithCopyWarning: \n",
      "A value is trying to be set on a copy of a slice from a DataFrame.\n",
      "Try using .loc[row_indexer,col_indexer] = value instead\n",
      "\n",
      "See the caveats in the documentation: https://pandas.pydata.org/pandas-docs/stable/user_guide/indexing.html#returning-a-view-versus-a-copy\n",
      "  loan_df2['term_in_months']=loan_df2.term.apply(lambda x: int(x.replace('months','')))\n"
     ]
    },
    {
     "data": {
      "text/plain": [
       "10+ years    8395\n",
       "< 1 year     4378\n",
       "2 years      4214\n",
       "3 years      3898\n",
       "4 years      3298\n",
       "5 years      3139\n",
       "1 year       3090\n",
       "6 years      2111\n",
       "7 years      1699\n",
       "8 years      1399\n",
       "9 years      1205\n",
       "Name: emp_length, dtype: int64"
      ]
     },
     "execution_count": 28,
     "metadata": {},
     "output_type": "execute_result"
    }
   ],
   "source": [
    "loan_df2['term_in_months']=loan_df2.term.apply(lambda x: int(x.replace('months','')))\n",
    "loan_df2.emp_length.value_counts()"
   ]
  },
  {
   "cell_type": "markdown",
   "id": "de92dc3a",
   "metadata": {},
   "source": [
    "For emp_length we will do this int transformation later "
   ]
  },
  {
   "cell_type": "code",
   "execution_count": 29,
   "id": "31d14d7e",
   "metadata": {},
   "outputs": [
    {
     "data": {
      "text/html": [
       "<div>\n",
       "<style scoped>\n",
       "    .dataframe tbody tr th:only-of-type {\n",
       "        vertical-align: middle;\n",
       "    }\n",
       "\n",
       "    .dataframe tbody tr th {\n",
       "        vertical-align: top;\n",
       "    }\n",
       "\n",
       "    .dataframe thead th {\n",
       "        text-align: right;\n",
       "    }\n",
       "</style>\n",
       "<table border=\"1\" class=\"dataframe\">\n",
       "  <thead>\n",
       "    <tr style=\"text-align: right;\">\n",
       "      <th></th>\n",
       "      <th>issue_d</th>\n",
       "      <th>last_pymnt_d</th>\n",
       "      <th>next_pymnt_d</th>\n",
       "    </tr>\n",
       "  </thead>\n",
       "  <tbody>\n",
       "    <tr>\n",
       "      <th>0</th>\n",
       "      <td>Dec-11</td>\n",
       "      <td>Jan-15</td>\n",
       "      <td>NaN</td>\n",
       "    </tr>\n",
       "    <tr>\n",
       "      <th>1</th>\n",
       "      <td>Dec-11</td>\n",
       "      <td>Apr-13</td>\n",
       "      <td>NaN</td>\n",
       "    </tr>\n",
       "    <tr>\n",
       "      <th>2</th>\n",
       "      <td>Dec-11</td>\n",
       "      <td>Jun-14</td>\n",
       "      <td>NaN</td>\n",
       "    </tr>\n",
       "    <tr>\n",
       "      <th>3</th>\n",
       "      <td>Dec-11</td>\n",
       "      <td>Jan-15</td>\n",
       "      <td>NaN</td>\n",
       "    </tr>\n",
       "    <tr>\n",
       "      <th>4</th>\n",
       "      <td>Dec-11</td>\n",
       "      <td>May-16</td>\n",
       "      <td>Jun-16</td>\n",
       "    </tr>\n",
       "    <tr>\n",
       "      <th>...</th>\n",
       "      <td>...</td>\n",
       "      <td>...</td>\n",
       "      <td>...</td>\n",
       "    </tr>\n",
       "    <tr>\n",
       "      <th>39712</th>\n",
       "      <td>Jul-07</td>\n",
       "      <td>Jul-10</td>\n",
       "      <td>NaN</td>\n",
       "    </tr>\n",
       "    <tr>\n",
       "      <th>39713</th>\n",
       "      <td>Jul-07</td>\n",
       "      <td>Jul-10</td>\n",
       "      <td>NaN</td>\n",
       "    </tr>\n",
       "    <tr>\n",
       "      <th>39714</th>\n",
       "      <td>Jul-07</td>\n",
       "      <td>Apr-08</td>\n",
       "      <td>NaN</td>\n",
       "    </tr>\n",
       "    <tr>\n",
       "      <th>39715</th>\n",
       "      <td>Jul-07</td>\n",
       "      <td>Jan-08</td>\n",
       "      <td>NaN</td>\n",
       "    </tr>\n",
       "    <tr>\n",
       "      <th>39716</th>\n",
       "      <td>Jun-07</td>\n",
       "      <td>Jun-10</td>\n",
       "      <td>NaN</td>\n",
       "    </tr>\n",
       "  </tbody>\n",
       "</table>\n",
       "<p>37868 rows × 3 columns</p>\n",
       "</div>"
      ],
      "text/plain": [
       "      issue_d last_pymnt_d next_pymnt_d\n",
       "0      Dec-11       Jan-15          NaN\n",
       "1      Dec-11       Apr-13          NaN\n",
       "2      Dec-11       Jun-14          NaN\n",
       "3      Dec-11       Jan-15          NaN\n",
       "4      Dec-11       May-16       Jun-16\n",
       "...       ...          ...          ...\n",
       "39712  Jul-07       Jul-10          NaN\n",
       "39713  Jul-07       Jul-10          NaN\n",
       "39714  Jul-07       Apr-08          NaN\n",
       "39715  Jul-07       Jan-08          NaN\n",
       "39716  Jun-07       Jun-10          NaN\n",
       "\n",
       "[37868 rows x 3 columns]"
      ]
     },
     "execution_count": 29,
     "metadata": {},
     "output_type": "execute_result"
    }
   ],
   "source": [
    "loan_df2[['issue_d','last_pymnt_d','next_pymnt_d']]"
   ]
  },
  {
   "cell_type": "code",
   "execution_count": 30,
   "id": "30dbee32",
   "metadata": {},
   "outputs": [
    {
     "name": "stderr",
     "output_type": "stream",
     "text": [
      "C:\\Users\\prason.ghimire\\AppData\\Local\\Temp\\ipykernel_21752\\316134939.py:1: SettingWithCopyWarning: \n",
      "A value is trying to be set on a copy of a slice from a DataFrame.\n",
      "Try using .loc[row_indexer,col_indexer] = value instead\n",
      "\n",
      "See the caveats in the documentation: https://pandas.pydata.org/pandas-docs/stable/user_guide/indexing.html#returning-a-view-versus-a-copy\n",
      "  loan_df2[['issue_d','last_pymnt_d','next_pymnt_d']]=loan_df2[['issue_d','last_pymnt_d','next_pymnt_d']].apply(pd.to_datetime,format='%b-%y',errors='coerce')\n"
     ]
    }
   ],
   "source": [
    "loan_df2[['issue_d','last_pymnt_d','next_pymnt_d']]=loan_df2[['issue_d','last_pymnt_d','next_pymnt_d']].apply(pd.to_datetime,format='%b-%y',errors='coerce')"
   ]
  },
  {
   "cell_type": "code",
   "execution_count": 31,
   "id": "e4d1840b",
   "metadata": {},
   "outputs": [
    {
     "name": "stderr",
     "output_type": "stream",
     "text": [
      "C:\\Users\\prason.ghimire\\AppData\\Local\\Temp\\ipykernel_21752\\267081221.py:1: SettingWithCopyWarning: \n",
      "A value is trying to be set on a copy of a slice from a DataFrame.\n",
      "Try using .loc[row_indexer,col_indexer] = value instead\n",
      "\n",
      "See the caveats in the documentation: https://pandas.pydata.org/pandas-docs/stable/user_guide/indexing.html#returning-a-view-versus-a-copy\n",
      "  loan_df2['last_credit_pull_d']=pd.to_datetime(loan_df2.last_credit_pull_d,format='%b-%y')\n"
     ]
    }
   ],
   "source": [
    "loan_df2['last_credit_pull_d']=pd.to_datetime(loan_df2.last_credit_pull_d,format='%b-%y')"
   ]
  },
  {
   "cell_type": "code",
   "execution_count": 32,
   "id": "31050600",
   "metadata": {},
   "outputs": [
    {
     "name": "stderr",
     "output_type": "stream",
     "text": [
      "C:\\Users\\prason.ghimire\\AppData\\Local\\Temp\\ipykernel_21752\\478714781.py:1: SettingWithCopyWarning: \n",
      "A value is trying to be set on a copy of a slice from a DataFrame.\n",
      "Try using .loc[row_indexer,col_indexer] = value instead\n",
      "\n",
      "See the caveats in the documentation: https://pandas.pydata.org/pandas-docs/stable/user_guide/indexing.html#returning-a-view-versus-a-copy\n",
      "  loan_df2['int_rate']=loan_df2.int_rate.apply(lambda x: float(x[:-1]))\n"
     ]
    }
   ],
   "source": [
    "loan_df2['int_rate']=loan_df2.int_rate.apply(lambda x: float(x[:-1]))"
   ]
  },
  {
   "cell_type": "code",
   "execution_count": 33,
   "id": "56a47599",
   "metadata": {},
   "outputs": [
    {
     "data": {
      "text/plain": [
       "0"
      ]
     },
     "execution_count": 33,
     "metadata": {},
     "output_type": "execute_result"
    }
   ],
   "source": [
    "#check if there is some duplicate entries ffor thhe members\n",
    "loan_df2.member_id.duplicated().sum()"
   ]
  },
  {
   "cell_type": "code",
   "execution_count": 34,
   "id": "8a9eca97",
   "metadata": {},
   "outputs": [
    {
     "data": {
      "text/plain": [
       "n    37868\n",
       "Name: pymnt_plan, dtype: int64"
      ]
     },
     "execution_count": 34,
     "metadata": {},
     "output_type": "execute_result"
    }
   ],
   "source": [
    "loan_df2.pymnt_plan.value_counts()"
   ]
  },
  {
   "cell_type": "markdown",
   "id": "999c21c5",
   "metadata": {},
   "source": [
    "## Now lets do some analysis for the insight(Univariate and segmented)\n",
    "\n",
    "1. distribution of the overall loan amount over different category\n",
    "2. distribution of the different grades of the loan\n",
    "3. Are there some relation ship between address and the loan-defaulting tendency\n",
    "4. distribution of application type for the loan disbursed\n",
    "5. What is the relation in loan application category wrt to his income or average balance\n",
    "6. variation in the loan disbursed amount\n",
    "7. variation in the loan tenure\n",
    "8. Average collection of installments\n",
    "9. variation in the interest rate for different category of loan i.e loan grades\n",
    "\n"
   ]
  },
  {
   "cell_type": "markdown",
   "id": "201831d4",
   "metadata": {},
   "source": [
    "### 6.variation in the loan disbursed amount"
   ]
  },
  {
   "cell_type": "code",
   "execution_count": 35,
   "id": "e4cae421",
   "metadata": {},
   "outputs": [
    {
     "data": {
      "image/png": "[encoded data removed]",
      "text/plain": [
       "<Figure size 432x288 with 1 Axes>"
      ]
     },
     "metadata": {
      "needs_background": "light"
     },
     "output_type": "display_data"
    }
   ],
   "source": [
    "plt.boxplot(loan_df2.loan_amnt) ## we are only considering the value where funded=loan otherwise we had to use funded amount for this represenation\n",
    "plt.show()"
   ]
  },
  {
   "cell_type": "code",
   "execution_count": 36,
   "id": "10913c45",
   "metadata": {},
   "outputs": [
    {
     "data": {
      "image/png": "[encoded data removed]",
      "text/plain": [
       "<Figure size 432x288 with 1 Axes>"
      ]
     },
     "metadata": {
      "needs_background": "light"
     },
     "output_type": "display_data"
    }
   ],
   "source": [
    "plt.boxplot(loan_df2.annual_inc) ## we are only considering the value where funded=loan \n",
    "# otherwise we had to use funded amount for this represenation\n",
    "plt.ylabel('yearly income')\n",
    "plt.show()"
   ]
  },
  {
   "cell_type": "markdown",
   "id": "cae374e4",
   "metadata": {},
   "source": [
    "Some people are there with some extreme income mentioned, they  might skew the result, we will try to remove them from consideration before doing any analysis with the annual_income column"
   ]
  },
  {
   "cell_type": "code",
   "execution_count": 37,
   "id": "60fc849b",
   "metadata": {},
   "outputs": [],
   "source": [
    "%matplotlib inline"
   ]
  },
  {
   "cell_type": "code",
   "execution_count": 38,
   "id": "0ea2b752",
   "metadata": {},
   "outputs": [
    {
     "name": "stderr",
     "output_type": "stream",
     "text": [
      "C:\\Users\\prason.ghimire\\AppData\\Roaming\\Python\\Python38\\site-packages\\seaborn\\_decorators.py:36: FutureWarning: Pass the following variables as keyword args: x, y. From version 0.12, the only valid positional argument will be `data`, and passing other arguments without an explicit keyword will result in an error or misinterpretation.\n",
      "  warnings.warn(\n"
     ]
    },
    {
     "data": {
      "image/png": "[encoded data removed]",
      "text/plain": [
       "<Figure size 1440x720 with 1 Axes>"
      ]
     },
     "metadata": {
      "needs_background": "light"
     },
     "output_type": "display_data"
    }
   ],
   "source": [
    "data=loan_df2.groupby(['purpose']).sum()['loan_amnt'].sort_values()\n",
    "plt.figure(figsize=(20,10))\n",
    "plt.xticks(rotation=90)\n",
    "plt.title(\"Purpose based Loan amount distribution\")\n",
    "sns.barplot(data.index,data.values)\n",
    "plt.show()\n"
   ]
  },
  {
   "cell_type": "markdown",
   "id": "f2428c72",
   "metadata": {},
   "source": [
    "More loan is issued for the purpose of debt consolidation by the memeber"
   ]
  },
  {
   "cell_type": "code",
   "execution_count": 39,
   "id": "7abbc406",
   "metadata": {},
   "outputs": [
    {
     "name": "stderr",
     "output_type": "stream",
     "text": [
      "C:\\Users\\prason.ghimire\\AppData\\Roaming\\Python\\Python38\\site-packages\\seaborn\\_decorators.py:36: FutureWarning: Pass the following variables as keyword args: x, y. From version 0.12, the only valid positional argument will be `data`, and passing other arguments without an explicit keyword will result in an error or misinterpretation.\n",
      "  warnings.warn(\n"
     ]
    },
    {
     "data": {
      "image/png": "[encoded data removed]",
      "text/plain": [
       "<Figure size 432x288 with 1 Axes>"
      ]
     },
     "metadata": {
      "needs_background": "light"
     },
     "output_type": "display_data"
    }
   ],
   "source": [
    "plt.title(\"Grade based Loan amount distribution\")\n",
    "gradedata=loan_df2.groupby(['grade']).sum()['loan_amnt'].sort_values()\n",
    "sns.barplot(gradedata.index,gradedata.values)\n",
    "plt.show()"
   ]
  },
  {
   "cell_type": "markdown",
   "id": "76c76b76",
   "metadata": {},
   "source": [
    "More loan is issue under category B"
   ]
  },
  {
   "cell_type": "markdown",
   "id": "b9294fa8",
   "metadata": {},
   "source": [
    "#### 2. visualizing the distribution of different grades of loan"
   ]
  },
  {
   "cell_type": "code",
   "execution_count": 40,
   "id": "a64abec8",
   "metadata": {},
   "outputs": [],
   "source": [
    "grade_dist_data=loan_df2.groupby(['grade','purpose']).sum()['loan_amnt']"
   ]
  },
  {
   "cell_type": "code",
   "execution_count": 41,
   "id": "53db8522",
   "metadata": {
    "scrolled": true
   },
   "outputs": [
    {
     "data": {
      "image/png": "[encoded data removed]",
      "text/plain": [
       "<Figure size 1440x1080 with 1 Axes>"
      ]
     },
     "metadata": {
      "needs_background": "light"
     },
     "output_type": "display_data"
    }
   ],
   "source": [
    "grade_dist_data.unstack(level=0).plot(kind='bar',stacked=True,figsize=(20,15))\n",
    "plt.show()"
   ]
  },
  {
   "cell_type": "markdown",
   "id": "04791feb",
   "metadata": {},
   "source": [
    "this chart shows the combined information that debt consolidation is the main purpose for the loan and mostly grade B loan is issued in each category"
   ]
  },
  {
   "cell_type": "markdown",
   "id": "f85c4e77",
   "metadata": {},
   "source": [
    "### 3. Are there some relation ship between address and the loan-defaulting tendency"
   ]
  },
  {
   "cell_type": "code",
   "execution_count": 42,
   "id": "d6046d2b",
   "metadata": {},
   "outputs": [
    {
     "name": "stderr",
     "output_type": "stream",
     "text": [
      "C:\\Users\\prason.ghimire\\AppData\\Roaming\\Python\\Python38\\site-packages\\seaborn\\_decorators.py:36: FutureWarning: Pass the following variables as keyword args: x, y. From version 0.12, the only valid positional argument will be `data`, and passing other arguments without an explicit keyword will result in an error or misinterpretation.\n",
      "  warnings.warn(\n"
     ]
    },
    {
     "data": {
      "image/png": "[encoded data removed]",
      "text/plain": [
       "<Figure size 1440x1440 with 1 Axes>"
      ]
     },
     "metadata": {
      "needs_background": "light"
     },
     "output_type": "display_data"
    }
   ],
   "source": [
    "addr_wise_defaulting_data=loan_df2[loan_df2.loan_status=='Charged Off'].groupby('addr_state').count()['id'].sort_values()\n",
    "plt.figure(figsize=(20,20))\n",
    "sns.barplot(addr_wise_defaulting_data.index,addr_wise_defaulting_data.values)\n",
    "plt.show()"
   ]
  },
  {
   "cell_type": "markdown",
   "id": "add92bcb",
   "metadata": {},
   "source": [
    "##### This figure show that CA  state people has the highest defaulting tendency in the data however this can also be due to more application being processed for CA so for better analysis lets calculate the defaulting ration with respect to the overall applications"
   ]
  },
  {
   "cell_type": "code",
   "execution_count": 43,
   "id": "5fdab7f3",
   "metadata": {},
   "outputs": [],
   "source": [
    "state_data=pd.concat([addr_wise_defaulting_data,loan_df2.addr_state.value_counts()],axis=1,names=['state'])"
   ]
  },
  {
   "cell_type": "code",
   "execution_count": 44,
   "id": "8489bbc2",
   "metadata": {},
   "outputs": [],
   "source": [
    "state_data.columns=['default count','total application']"
   ]
  },
  {
   "cell_type": "code",
   "execution_count": 45,
   "id": "bf6194d5",
   "metadata": {},
   "outputs": [],
   "source": [
    "percentage_data=(state_data['default count']/state_data['total application']*100).sort_values()"
   ]
  },
  {
   "cell_type": "code",
   "execution_count": 46,
   "id": "d82492b2",
   "metadata": {},
   "outputs": [
    {
     "name": "stderr",
     "output_type": "stream",
     "text": [
      "C:\\Users\\prason.ghimire\\AppData\\Roaming\\Python\\Python38\\site-packages\\seaborn\\_decorators.py:36: FutureWarning: Pass the following variables as keyword args: x, y. From version 0.12, the only valid positional argument will be `data`, and passing other arguments without an explicit keyword will result in an error or misinterpretation.\n",
      "  warnings.warn(\n"
     ]
    },
    {
     "data": {
      "image/png": "[encoded data removed]",
      "text/plain": [
       "<Figure size 1440x1440 with 1 Axes>"
      ]
     },
     "metadata": {
      "needs_background": "light"
     },
     "output_type": "display_data"
    }
   ],
   "source": [
    "plt.figure(figsize=(20,20))\n",
    "ax=sns.barplot(percentage_data.index,percentage_data.values)\n",
    "plt.show()"
   ]
  },
  {
   "cell_type": "markdown",
   "id": "c1feaeb3",
   "metadata": {},
   "source": [
    "##### our intution was right because of the more application it was showing more defaulting for the CA state. Now that we have analyse proportionately NE state has almost 60% of the total defaulting rate. so we need to be carefull giving loan to someone from this state. However we can still not be 100% because the application count itself for the NE was low as per the first graph. there is not enough data against NE to say this confidently\n",
    "\n"
   ]
  },
  {
   "cell_type": "code",
   "execution_count": null,
   "id": "268da91e",
   "metadata": {},
   "outputs": [],
   "source": []
  },
  {
   "cell_type": "markdown",
   "id": "8063ccfe",
   "metadata": {},
   "source": [
    "### 4. distribution of application type for the loan disbursed"
   ]
  },
  {
   "cell_type": "code",
   "execution_count": 47,
   "id": "c9d436e4",
   "metadata": {},
   "outputs": [
    {
     "data": {
      "text/plain": [
       "INDIVIDUAL    37868\n",
       "Name: application_type, dtype: int64"
      ]
     },
     "execution_count": 47,
     "metadata": {},
     "output_type": "execute_result"
    }
   ],
   "source": [
    "loan_df2.application_type.value_counts()  #only one category so this column wont be much helpful for us "
   ]
  },
  {
   "cell_type": "code",
   "execution_count": null,
   "id": "cb82ca88",
   "metadata": {},
   "outputs": [],
   "source": []
  },
  {
   "cell_type": "markdown",
   "id": "e0d88cc7",
   "metadata": {},
   "source": [
    "#### 5. What is the relation of loan application category wrt to his income or average balance"
   ]
  },
  {
   "cell_type": "markdown",
   "id": "50ca60c8",
   "metadata": {},
   "source": [
    "Since the average curr balance and annual join income is all N/A we will see with respect to the annual income only now "
   ]
  },
  {
   "cell_type": "code",
   "execution_count": 125,
   "id": "65e4739a",
   "metadata": {},
   "outputs": [],
   "source": []
  },
  {
   "cell_type": "code",
   "execution_count": 48,
   "id": "ad2b444f",
   "metadata": {},
   "outputs": [
    {
     "name": "stderr",
     "output_type": "stream",
     "text": [
      "C:\\Users\\prason.ghimire\\AppData\\Local\\Temp\\ipykernel_21752\\194735149.py:1: FutureWarning: Dropping invalid columns in DataFrameGroupBy.max is deprecated. In a future version, a TypeError will be raised. Before calling .max, select only columns which should be valid for the function.\n",
      "  category_loan_dist_maxinc=loan_df2.groupby('purpose').max()['annual_inc']\n",
      "C:\\Users\\prason.ghimire\\AppData\\Local\\Temp\\ipykernel_21752\\194735149.py:2: FutureWarning: Dropping invalid columns in DataFrameGroupBy.min is deprecated. In a future version, a TypeError will be raised. Before calling .min, select only columns which should be valid for the function.\n",
      "  category_loan_dist_mininc=loan_df2.groupby('purpose').min()['annual_inc']\n"
     ]
    }
   ],
   "source": [
    "category_loan_dist_maxinc=loan_df2.groupby('purpose').max()['annual_inc']\n",
    "category_loan_dist_mininc=loan_df2.groupby('purpose').min()['annual_inc']"
   ]
  },
  {
   "cell_type": "code",
   "execution_count": 46,
   "id": "bd363dc5",
   "metadata": {},
   "outputs": [
    {
     "data": {
      "text/plain": [
       "[<matplotlib.lines.Line2D at 0x1f4e4b65f70>]"
      ]
     },
     "execution_count": 46,
     "metadata": {},
     "output_type": "execute_result"
    },
    {
     "data": {
      "image/png": "[encoded data removed]",
      "text/plain": [
       "<Figure size 432x288 with 1 Axes>"
      ]
     },
     "metadata": {
      "needs_background": "light"
     },
     "output_type": "display_data"
    }
   ],
   "source": [
    "fig,ax = plt.subplots()\n",
    "plt.xticks(rotation=90)\n",
    "ax.plot(category_loan_dist_maxinc)\n",
    "ax.plot(category_loan_dist_mininc)"
   ]
  },
  {
   "cell_type": "code",
   "execution_count": 49,
   "id": "ec70d841",
   "metadata": {},
   "outputs": [
    {
     "data": {
      "text/plain": [
       "<AxesSubplot:>"
      ]
     },
     "execution_count": 49,
     "metadata": {},
     "output_type": "execute_result"
    },
    {
     "data": {
      "image/png": "[encoded data removed]",
      "text/plain": [
       "<Figure size 1440x720 with 1 Axes>"
      ]
     },
     "metadata": {
      "needs_background": "light"
     },
     "output_type": "display_data"
    }
   ],
   "source": [
    "loan_df2[['purpose','annual_inc']].groupby('purpose').boxplot(subplots=False,figsize=(20,10),rot=90)"
   ]
  },
  {
   "cell_type": "markdown",
   "id": "e33e53ef",
   "metadata": {},
   "source": [
    "##### its difficult to visualize due to present of the extreme income values lets try to visualize variation without these extremes and find out what data says\n"
   ]
  },
  {
   "cell_type": "code",
   "execution_count": 50,
   "id": "723fdaf1",
   "metadata": {},
   "outputs": [
    {
     "data": {
      "text/plain": [
       "<AxesSubplot:>"
      ]
     },
     "execution_count": 50,
     "metadata": {},
     "output_type": "execute_result"
    },
    {
     "data": {
      "image/png": "[encoded data removed]",
      "text/plain": [
       "<Figure size 1440x720 with 1 Axes>"
      ]
     },
     "metadata": {
      "needs_background": "light"
     },
     "output_type": "display_data"
    }
   ],
   "source": [
    "loan_df2[loan_df2['annual_inc']<1000000][['purpose','annual_inc']].groupby('purpose').boxplot(subplots=False,figsize=(20,10),rot=90)"
   ]
  },
  {
   "cell_type": "markdown",
   "id": "011a2465",
   "metadata": {},
   "source": [
    "the above variation shows that people who are applying for the educational, vacation and 4 wheeler loan has relatively less income compared to other. may be because they are more of typical middle class family whose dream fulfillment needs financial support. Let see if such lower income group who are spending for their luxorious  neeed like vacation , cars even though they have lesser income show the more defaulting behaviour if so we have to be aware before issuing them loan."
   ]
  },
  {
   "cell_type": "markdown",
   "id": "5c95a778",
   "metadata": {},
   "source": [
    "#### 9. variation in the interest rate for different category of loan i.e loan grades"
   ]
  },
  {
   "cell_type": "code",
   "execution_count": 51,
   "id": "6e67319b",
   "metadata": {},
   "outputs": [
    {
     "data": {
      "text/plain": [
       "<AxesSubplot:>"
      ]
     },
     "execution_count": 51,
     "metadata": {},
     "output_type": "execute_result"
    },
    {
     "data": {
      "image/png": "[encoded data removed]",
      "text/plain": [
       "<Figure size 1440x720 with 1 Axes>"
      ]
     },
     "metadata": {
      "needs_background": "light"
     },
     "output_type": "display_data"
    }
   ],
   "source": [
    "loan_df2[['grade','int_rate']].groupby('grade').boxplot(subplots=False,figsize=(20,10),rot=90)"
   ]
  },
  {
   "cell_type": "markdown",
   "id": "f3b8740e",
   "metadata": {},
   "source": [
    "This graph shows that the interest rate varies from 5 to 25 percentage however the higher grades loan are supposed to get the lower interest rate. may be higher grades loan are easy to trust by the banker that the borrower will return the amount timely(lower risk parameter)"
   ]
  },
  {
   "cell_type": "code",
   "execution_count": null,
   "id": "657adff9",
   "metadata": {},
   "outputs": [],
   "source": []
  },
  {
   "cell_type": "code",
   "execution_count": 52,
   "id": "31d80c14",
   "metadata": {},
   "outputs": [
    {
     "data": {
      "text/plain": [
       "['id',\n",
       " 'member_id',\n",
       " 'loan_amnt',\n",
       " 'funded_amnt',\n",
       " 'funded_amnt_inv',\n",
       " 'term',\n",
       " 'int_rate',\n",
       " 'installment',\n",
       " 'grade',\n",
       " 'sub_grade',\n",
       " 'emp_title',\n",
       " 'emp_length',\n",
       " 'home_ownership',\n",
       " 'annual_inc',\n",
       " 'verification_status',\n",
       " 'issue_d',\n",
       " 'loan_status',\n",
       " 'pymnt_plan',\n",
       " 'url',\n",
       " 'desc',\n",
       " 'purpose',\n",
       " 'title',\n",
       " 'zip_code',\n",
       " 'addr_state',\n",
       " 'dti',\n",
       " 'delinq_2yrs',\n",
       " 'earliest_cr_line',\n",
       " 'inq_last_6mths',\n",
       " 'mths_since_last_delinq',\n",
       " 'mths_since_last_record',\n",
       " 'open_acc',\n",
       " 'pub_rec',\n",
       " 'revol_bal',\n",
       " 'revol_util',\n",
       " 'total_acc',\n",
       " 'initial_list_status',\n",
       " 'out_prncp',\n",
       " 'out_prncp_inv',\n",
       " 'total_pymnt',\n",
       " 'total_pymnt_inv',\n",
       " 'total_rec_prncp',\n",
       " 'total_rec_int',\n",
       " 'total_rec_late_fee',\n",
       " 'recoveries',\n",
       " 'collection_recovery_fee',\n",
       " 'last_pymnt_d',\n",
       " 'last_pymnt_amnt',\n",
       " 'next_pymnt_d',\n",
       " 'last_credit_pull_d',\n",
       " 'collections_12_mths_ex_med',\n",
       " 'policy_code',\n",
       " 'application_type',\n",
       " 'acc_now_delinq',\n",
       " 'chargeoff_within_12_mths',\n",
       " 'delinq_amnt',\n",
       " 'pub_rec_bankruptcies',\n",
       " 'tax_liens',\n",
       " 'term_in_months']"
      ]
     },
     "execution_count": 52,
     "metadata": {},
     "output_type": "execute_result"
    }
   ],
   "source": [
    "loan_df2.columns.tolist()"
   ]
  },
  {
   "cell_type": "markdown",
   "id": "7c2f630d",
   "metadata": {},
   "source": [
    "### So far we have analyse the one variable at a time as a whole or what it reveals in various segement . now lets move our focus on the relationship of the different important column showing different attributes with the loan defaulting tendency"
   ]
  },
  {
   "cell_type": "markdown",
   "id": "fa5c5ee8",
   "metadata": {},
   "source": [
    "# Some insight with respect to loan defaulting tendency(Bi-variate,Multivariate)\n",
    "\n",
    "1. loan category having high defaulting tendency\n",
    "2. interest rate with loan defaulting tendency\n",
    "3. loan grade with defaulting tendency\n",
    "4. emp. length with loan defaulting tendency\n",
    "5. public backrupt declared application result in defaulting or not ( pub_rec & pub_rec_bankruptcies)\n",
    "6. high loan amount and less tenure result in default or not\n",
    "7. annual income with defaulting tendency\n",
    "8. if higher open credit line has any relation with the defaualting rate.\n",
    "9. dti ratio and defaulting tendency relation\n",
    "10. verification status and defaulting tendency\n",
    "11. term or loan with defaulting tendency (term_in_months)\n",
    "\n",
    "\n"
   ]
  },
  {
   "cell_type": "code",
   "execution_count": null,
   "id": "da0810d5",
   "metadata": {},
   "outputs": [],
   "source": []
  },
  {
   "cell_type": "code",
   "execution_count": null,
   "id": "85bd7344",
   "metadata": {},
   "outputs": [],
   "source": []
  },
  {
   "cell_type": "code",
   "execution_count": null,
   "id": "980bd364",
   "metadata": {},
   "outputs": [],
   "source": []
  },
  {
   "cell_type": "markdown",
   "id": "5c7e95b5",
   "metadata": {},
   "source": [
    "Lets do some more data cleaning first by removing unnecessary column that we are still loading in memory"
   ]
  },
  {
   "cell_type": "code",
   "execution_count": 53,
   "id": "ecbd976b",
   "metadata": {},
   "outputs": [],
   "source": [
    "loan_df3=loan_df2.drop(columns=['id','emp_title','member_id','policy_code','application_type','pymnt_plan','collections_12_mths_ex_med','acc_now_delinq','tax_liens','delinq_amnt','term'],axis=1)"
   ]
  },
  {
   "cell_type": "markdown",
   "id": "38236bda",
   "metadata": {},
   "source": [
    "now lets remove all extra column except which we required in above 11 analysis "
   ]
  },
  {
   "cell_type": "code",
   "execution_count": 54,
   "id": "cc739982",
   "metadata": {},
   "outputs": [],
   "source": [
    "loan_df4=loan_df3.drop(columns=['issue_d','desc','zip_code']) ## we have description column where we can analyse the phrase and group the intention of the consumer to estimate how likely he/she is to default loan based on the comment he she type or provide"
   ]
  },
  {
   "cell_type": "code",
   "execution_count": 55,
   "id": "5259bf73",
   "metadata": {},
   "outputs": [],
   "source": [
    "import re\n",
    "loan_df4['emp_length']=loan_df4.emp_length.replace('10+ years','10').replace('< 1 year','0').replace('11','10').fillna(-1)"
   ]
  },
  {
   "cell_type": "code",
   "execution_count": 56,
   "id": "806ca145",
   "metadata": {},
   "outputs": [],
   "source": [
    "loan_df4['emp_length']=loan_df4.emp_length.apply(lambda x: int(str(x)[:2]))"
   ]
  },
  {
   "cell_type": "markdown",
   "id": "adcecf7a",
   "metadata": {},
   "source": [
    "#here we just converted the object type to the int time so that it will be easier to derieve the insights."
   ]
  },
  {
   "cell_type": "code",
   "execution_count": 57,
   "id": "42605d97",
   "metadata": {},
   "outputs": [
    {
     "data": {
      "text/html": [
       "<div>\n",
       "<style scoped>\n",
       "    .dataframe tbody tr th:only-of-type {\n",
       "        vertical-align: middle;\n",
       "    }\n",
       "\n",
       "    .dataframe tbody tr th {\n",
       "        vertical-align: top;\n",
       "    }\n",
       "\n",
       "    .dataframe thead th {\n",
       "        text-align: right;\n",
       "    }\n",
       "</style>\n",
       "<table border=\"1\" class=\"dataframe\">\n",
       "  <thead>\n",
       "    <tr style=\"text-align: right;\">\n",
       "      <th></th>\n",
       "      <th>loan_amnt</th>\n",
       "      <th>funded_amnt</th>\n",
       "      <th>funded_amnt_inv</th>\n",
       "      <th>int_rate</th>\n",
       "      <th>installment</th>\n",
       "      <th>grade</th>\n",
       "      <th>sub_grade</th>\n",
       "      <th>emp_length</th>\n",
       "      <th>home_ownership</th>\n",
       "      <th>annual_inc</th>\n",
       "      <th>...</th>\n",
       "      <th>total_rec_late_fee</th>\n",
       "      <th>recoveries</th>\n",
       "      <th>collection_recovery_fee</th>\n",
       "      <th>last_pymnt_d</th>\n",
       "      <th>last_pymnt_amnt</th>\n",
       "      <th>next_pymnt_d</th>\n",
       "      <th>last_credit_pull_d</th>\n",
       "      <th>chargeoff_within_12_mths</th>\n",
       "      <th>pub_rec_bankruptcies</th>\n",
       "      <th>term_in_months</th>\n",
       "    </tr>\n",
       "  </thead>\n",
       "  <tbody>\n",
       "    <tr>\n",
       "      <th>0</th>\n",
       "      <td>5000</td>\n",
       "      <td>5000</td>\n",
       "      <td>4975.0</td>\n",
       "      <td>10.65</td>\n",
       "      <td>162.87</td>\n",
       "      <td>B</td>\n",
       "      <td>B2</td>\n",
       "      <td>10</td>\n",
       "      <td>RENT</td>\n",
       "      <td>24000.0</td>\n",
       "      <td>...</td>\n",
       "      <td>0.00</td>\n",
       "      <td>0.00</td>\n",
       "      <td>0.00</td>\n",
       "      <td>2015-01-01</td>\n",
       "      <td>171.62</td>\n",
       "      <td>NaT</td>\n",
       "      <td>2016-05-01</td>\n",
       "      <td>0.0</td>\n",
       "      <td>0.0</td>\n",
       "      <td>36</td>\n",
       "    </tr>\n",
       "    <tr>\n",
       "      <th>1</th>\n",
       "      <td>2500</td>\n",
       "      <td>2500</td>\n",
       "      <td>2500.0</td>\n",
       "      <td>15.27</td>\n",
       "      <td>59.83</td>\n",
       "      <td>C</td>\n",
       "      <td>C4</td>\n",
       "      <td>0</td>\n",
       "      <td>RENT</td>\n",
       "      <td>30000.0</td>\n",
       "      <td>...</td>\n",
       "      <td>0.00</td>\n",
       "      <td>117.08</td>\n",
       "      <td>1.11</td>\n",
       "      <td>2013-04-01</td>\n",
       "      <td>119.66</td>\n",
       "      <td>NaT</td>\n",
       "      <td>2013-09-01</td>\n",
       "      <td>0.0</td>\n",
       "      <td>0.0</td>\n",
       "      <td>60</td>\n",
       "    </tr>\n",
       "    <tr>\n",
       "      <th>2</th>\n",
       "      <td>2400</td>\n",
       "      <td>2400</td>\n",
       "      <td>2400.0</td>\n",
       "      <td>15.96</td>\n",
       "      <td>84.33</td>\n",
       "      <td>C</td>\n",
       "      <td>C5</td>\n",
       "      <td>10</td>\n",
       "      <td>RENT</td>\n",
       "      <td>12252.0</td>\n",
       "      <td>...</td>\n",
       "      <td>0.00</td>\n",
       "      <td>0.00</td>\n",
       "      <td>0.00</td>\n",
       "      <td>2014-06-01</td>\n",
       "      <td>649.91</td>\n",
       "      <td>NaT</td>\n",
       "      <td>2016-05-01</td>\n",
       "      <td>0.0</td>\n",
       "      <td>0.0</td>\n",
       "      <td>36</td>\n",
       "    </tr>\n",
       "    <tr>\n",
       "      <th>3</th>\n",
       "      <td>10000</td>\n",
       "      <td>10000</td>\n",
       "      <td>10000.0</td>\n",
       "      <td>13.49</td>\n",
       "      <td>339.31</td>\n",
       "      <td>C</td>\n",
       "      <td>C1</td>\n",
       "      <td>10</td>\n",
       "      <td>RENT</td>\n",
       "      <td>49200.0</td>\n",
       "      <td>...</td>\n",
       "      <td>16.97</td>\n",
       "      <td>0.00</td>\n",
       "      <td>0.00</td>\n",
       "      <td>2015-01-01</td>\n",
       "      <td>357.48</td>\n",
       "      <td>NaT</td>\n",
       "      <td>2016-04-01</td>\n",
       "      <td>0.0</td>\n",
       "      <td>0.0</td>\n",
       "      <td>36</td>\n",
       "    </tr>\n",
       "    <tr>\n",
       "      <th>4</th>\n",
       "      <td>3000</td>\n",
       "      <td>3000</td>\n",
       "      <td>3000.0</td>\n",
       "      <td>12.69</td>\n",
       "      <td>67.79</td>\n",
       "      <td>B</td>\n",
       "      <td>B5</td>\n",
       "      <td>1</td>\n",
       "      <td>RENT</td>\n",
       "      <td>80000.0</td>\n",
       "      <td>...</td>\n",
       "      <td>0.00</td>\n",
       "      <td>0.00</td>\n",
       "      <td>0.00</td>\n",
       "      <td>2016-05-01</td>\n",
       "      <td>67.79</td>\n",
       "      <td>2016-06-01</td>\n",
       "      <td>2016-05-01</td>\n",
       "      <td>0.0</td>\n",
       "      <td>0.0</td>\n",
       "      <td>60</td>\n",
       "    </tr>\n",
       "  </tbody>\n",
       "</table>\n",
       "<p>5 rows × 44 columns</p>\n",
       "</div>"
      ],
      "text/plain": [
       "   loan_amnt  funded_amnt  funded_amnt_inv  int_rate  installment grade  \\\n",
       "0       5000         5000           4975.0     10.65       162.87     B   \n",
       "1       2500         2500           2500.0     15.27        59.83     C   \n",
       "2       2400         2400           2400.0     15.96        84.33     C   \n",
       "3      10000        10000          10000.0     13.49       339.31     C   \n",
       "4       3000         3000           3000.0     12.69        67.79     B   \n",
       "\n",
       "  sub_grade  emp_length home_ownership  annual_inc  ... total_rec_late_fee  \\\n",
       "0        B2          10           RENT     24000.0  ...               0.00   \n",
       "1        C4           0           RENT     30000.0  ...               0.00   \n",
       "2        C5          10           RENT     12252.0  ...               0.00   \n",
       "3        C1          10           RENT     49200.0  ...              16.97   \n",
       "4        B5           1           RENT     80000.0  ...               0.00   \n",
       "\n",
       "  recoveries collection_recovery_fee last_pymnt_d last_pymnt_amnt  \\\n",
       "0       0.00                    0.00   2015-01-01          171.62   \n",
       "1     117.08                    1.11   2013-04-01          119.66   \n",
       "2       0.00                    0.00   2014-06-01          649.91   \n",
       "3       0.00                    0.00   2015-01-01          357.48   \n",
       "4       0.00                    0.00   2016-05-01           67.79   \n",
       "\n",
       "  next_pymnt_d  last_credit_pull_d  chargeoff_within_12_mths  \\\n",
       "0          NaT          2016-05-01                       0.0   \n",
       "1          NaT          2013-09-01                       0.0   \n",
       "2          NaT          2016-05-01                       0.0   \n",
       "3          NaT          2016-04-01                       0.0   \n",
       "4   2016-06-01          2016-05-01                       0.0   \n",
       "\n",
       "  pub_rec_bankruptcies  term_in_months  \n",
       "0                  0.0              36  \n",
       "1                  0.0              60  \n",
       "2                  0.0              36  \n",
       "3                  0.0              36  \n",
       "4                  0.0              60  \n",
       "\n",
       "[5 rows x 44 columns]"
      ]
     },
     "execution_count": 57,
     "metadata": {},
     "output_type": "execute_result"
    }
   ],
   "source": [
    "loan_df4.head()"
   ]
  },
  {
   "cell_type": "code",
   "execution_count": 58,
   "id": "b36e6a6d",
   "metadata": {},
   "outputs": [
    {
     "data": {
      "text/plain": [
       "Fully Paid     31513\n",
       "Charged Off     5307\n",
       "Current         1048\n",
       "Name: loan_status, dtype: int64"
      ]
     },
     "execution_count": 58,
     "metadata": {},
     "output_type": "execute_result"
    }
   ],
   "source": [
    "loan_df4.loan_status.value_counts()"
   ]
  },
  {
   "cell_type": "code",
   "execution_count": null,
   "id": "20aa30f8",
   "metadata": {},
   "outputs": [],
   "source": []
  },
  {
   "cell_type": "markdown",
   "id": "44ffe308",
   "metadata": {},
   "source": [
    "#### 1. loan category having high defaulting tendency"
   ]
  },
  {
   "cell_type": "code",
   "execution_count": 59,
   "id": "af933c0e",
   "metadata": {},
   "outputs": [],
   "source": [
    "defaulting_by_group=loan_df4[loan_df4.loan_status=='Charged Off'].groupby('purpose').count()['loan_amnt'].sort_values()"
   ]
  },
  {
   "cell_type": "code",
   "execution_count": 60,
   "id": "20200dd1",
   "metadata": {},
   "outputs": [],
   "source": [
    "count_by_group = loan_df4.groupby('purpose').count()['funded_amnt'].sort_values()"
   ]
  },
  {
   "cell_type": "code",
   "execution_count": 61,
   "id": "d776c9da",
   "metadata": {},
   "outputs": [],
   "source": [
    "defaulting_smry1=pd.concat([defaulting_by_group,count_by_group],axis=1)"
   ]
  },
  {
   "cell_type": "code",
   "execution_count": 62,
   "id": "52eadc0f",
   "metadata": {},
   "outputs": [],
   "source": [
    "data=(defaulting_smry1['loan_amnt']/defaulting_smry1['funded_amnt']*100).sort_values()"
   ]
  },
  {
   "cell_type": "code",
   "execution_count": 63,
   "id": "dd3b1705",
   "metadata": {
    "scrolled": true
   },
   "outputs": [
    {
     "data": {
      "text/plain": [
       "<BarContainer object of 14 artists>"
      ]
     },
     "execution_count": 63,
     "metadata": {},
     "output_type": "execute_result"
    },
    {
     "data": {
      "image/png": "[encoded data removed]",
      "text/plain": [
       "<Figure size 1440x720 with 1 Axes>"
      ]
     },
     "metadata": {
      "needs_background": "light"
     },
     "output_type": "display_data"
    }
   ],
   "source": [
    "plt.figure(figsize=(20,10))\n",
    "plt.ylabel('Defaulting percentage')\n",
    "plt.bar(data.index,data.values)"
   ]
  },
  {
   "cell_type": "markdown",
   "id": "fa9ef0b1",
   "metadata": {},
   "source": [
    "##### this shows that person taking loan for the small business has around 25 percentage of defaulting which is highest may be because the intention of the business is unclear and still the loan is issued and when the business goes down the member are unable to pay the sum back"
   ]
  },
  {
   "cell_type": "code",
   "execution_count": null,
   "id": "b7c754a0",
   "metadata": {},
   "outputs": [],
   "source": []
  },
  {
   "cell_type": "markdown",
   "id": "828055ce",
   "metadata": {},
   "source": [
    "#### 2. interest rate with loan defaulting tendency"
   ]
  },
  {
   "cell_type": "code",
   "execution_count": 64,
   "id": "bf1463ee",
   "metadata": {},
   "outputs": [
    {
     "data": {
      "text/plain": [
       "<AxesSubplot:>"
      ]
     },
     "execution_count": 64,
     "metadata": {},
     "output_type": "execute_result"
    },
    {
     "data": {
      "image/png": "[encoded data removed]",
      "text/plain": [
       "<Figure size 432x288 with 1 Axes>"
      ]
     },
     "metadata": {
      "needs_background": "light"
     },
     "output_type": "display_data"
    }
   ],
   "source": [
    "loan_df4[['int_rate','loan_status']].groupby('loan_status').boxplot(subplots=False)"
   ]
  },
  {
   "cell_type": "markdown",
   "id": "fb780364",
   "metadata": {},
   "source": [
    "NO noticiable patttern seen in the defaulting tendency with the interest rate charged"
   ]
  },
  {
   "cell_type": "markdown",
   "id": "cb00722b",
   "metadata": {},
   "source": [
    "### 3. loan grade with defaulting tendency"
   ]
  },
  {
   "cell_type": "code",
   "execution_count": 65,
   "id": "68525fd9",
   "metadata": {},
   "outputs": [
    {
     "data": {
      "text/html": [
       "<div>\n",
       "<style scoped>\n",
       "    .dataframe tbody tr th:only-of-type {\n",
       "        vertical-align: middle;\n",
       "    }\n",
       "\n",
       "    .dataframe tbody tr th {\n",
       "        vertical-align: top;\n",
       "    }\n",
       "\n",
       "    .dataframe thead th {\n",
       "        text-align: right;\n",
       "    }\n",
       "</style>\n",
       "<table border=\"1\" class=\"dataframe\">\n",
       "  <thead>\n",
       "    <tr style=\"text-align: right;\">\n",
       "      <th></th>\n",
       "      <th>loan_status</th>\n",
       "    </tr>\n",
       "    <tr>\n",
       "      <th>sub_grade</th>\n",
       "      <th></th>\n",
       "    </tr>\n",
       "  </thead>\n",
       "  <tbody>\n",
       "    <tr>\n",
       "      <th>A1</th>\n",
       "      <td>29</td>\n",
       "    </tr>\n",
       "    <tr>\n",
       "      <th>A2</th>\n",
       "      <td>74</td>\n",
       "    </tr>\n",
       "    <tr>\n",
       "      <th>A3</th>\n",
       "      <td>101</td>\n",
       "    </tr>\n",
       "    <tr>\n",
       "      <th>A4</th>\n",
       "      <td>166</td>\n",
       "    </tr>\n",
       "    <tr>\n",
       "      <th>A5</th>\n",
       "      <td>209</td>\n",
       "    </tr>\n",
       "    <tr>\n",
       "      <th>B1</th>\n",
       "      <td>164</td>\n",
       "    </tr>\n",
       "    <tr>\n",
       "      <th>B2</th>\n",
       "      <td>222</td>\n",
       "    </tr>\n",
       "    <tr>\n",
       "      <th>B3</th>\n",
       "      <td>323</td>\n",
       "    </tr>\n",
       "    <tr>\n",
       "      <th>B4</th>\n",
       "      <td>297</td>\n",
       "    </tr>\n",
       "    <tr>\n",
       "      <th>B5</th>\n",
       "      <td>326</td>\n",
       "    </tr>\n",
       "    <tr>\n",
       "      <th>C1</th>\n",
       "      <td>316</td>\n",
       "    </tr>\n",
       "    <tr>\n",
       "      <th>C2</th>\n",
       "      <td>308</td>\n",
       "    </tr>\n",
       "    <tr>\n",
       "      <th>C3</th>\n",
       "      <td>253</td>\n",
       "    </tr>\n",
       "    <tr>\n",
       "      <th>C4</th>\n",
       "      <td>204</td>\n",
       "    </tr>\n",
       "    <tr>\n",
       "      <th>C5</th>\n",
       "      <td>201</td>\n",
       "    </tr>\n",
       "    <tr>\n",
       "      <th>D1</th>\n",
       "      <td>165</td>\n",
       "    </tr>\n",
       "    <tr>\n",
       "      <th>D2</th>\n",
       "      <td>262</td>\n",
       "    </tr>\n",
       "    <tr>\n",
       "      <th>D3</th>\n",
       "      <td>241</td>\n",
       "    </tr>\n",
       "    <tr>\n",
       "      <th>D4</th>\n",
       "      <td>204</td>\n",
       "    </tr>\n",
       "    <tr>\n",
       "      <th>D5</th>\n",
       "      <td>196</td>\n",
       "    </tr>\n",
       "    <tr>\n",
       "      <th>E1</th>\n",
       "      <td>187</td>\n",
       "    </tr>\n",
       "    <tr>\n",
       "      <th>E2</th>\n",
       "      <td>151</td>\n",
       "    </tr>\n",
       "    <tr>\n",
       "      <th>E3</th>\n",
       "      <td>108</td>\n",
       "    </tr>\n",
       "    <tr>\n",
       "      <th>E4</th>\n",
       "      <td>117</td>\n",
       "    </tr>\n",
       "    <tr>\n",
       "      <th>E5</th>\n",
       "      <td>99</td>\n",
       "    </tr>\n",
       "    <tr>\n",
       "      <th>F1</th>\n",
       "      <td>83</td>\n",
       "    </tr>\n",
       "    <tr>\n",
       "      <th>F2</th>\n",
       "      <td>61</td>\n",
       "    </tr>\n",
       "    <tr>\n",
       "      <th>F3</th>\n",
       "      <td>46</td>\n",
       "    </tr>\n",
       "    <tr>\n",
       "      <th>F4</th>\n",
       "      <td>46</td>\n",
       "    </tr>\n",
       "    <tr>\n",
       "      <th>F5</th>\n",
       "      <td>51</td>\n",
       "    </tr>\n",
       "    <tr>\n",
       "      <th>G1</th>\n",
       "      <td>30</td>\n",
       "    </tr>\n",
       "    <tr>\n",
       "      <th>G2</th>\n",
       "      <td>27</td>\n",
       "    </tr>\n",
       "    <tr>\n",
       "      <th>G3</th>\n",
       "      <td>18</td>\n",
       "    </tr>\n",
       "    <tr>\n",
       "      <th>G4</th>\n",
       "      <td>12</td>\n",
       "    </tr>\n",
       "    <tr>\n",
       "      <th>G5</th>\n",
       "      <td>10</td>\n",
       "    </tr>\n",
       "  </tbody>\n",
       "</table>\n",
       "</div>"
      ],
      "text/plain": [
       "           loan_status\n",
       "sub_grade             \n",
       "A1                  29\n",
       "A2                  74\n",
       "A3                 101\n",
       "A4                 166\n",
       "A5                 209\n",
       "B1                 164\n",
       "B2                 222\n",
       "B3                 323\n",
       "B4                 297\n",
       "B5                 326\n",
       "C1                 316\n",
       "C2                 308\n",
       "C3                 253\n",
       "C4                 204\n",
       "C5                 201\n",
       "D1                 165\n",
       "D2                 262\n",
       "D3                 241\n",
       "D4                 204\n",
       "D5                 196\n",
       "E1                 187\n",
       "E2                 151\n",
       "E3                 108\n",
       "E4                 117\n",
       "E5                  99\n",
       "F1                  83\n",
       "F2                  61\n",
       "F3                  46\n",
       "F4                  46\n",
       "F5                  51\n",
       "G1                  30\n",
       "G2                  27\n",
       "G3                  18\n",
       "G4                  12\n",
       "G5                  10"
      ]
     },
     "execution_count": 65,
     "metadata": {},
     "output_type": "execute_result"
    }
   ],
   "source": [
    "loan_df4[['sub_grade','loan_status']][loan_df4.loan_status=='Charged Off'].groupby('sub_grade').count()"
   ]
  },
  {
   "cell_type": "code",
   "execution_count": 66,
   "id": "9d8a1a7f",
   "metadata": {
    "scrolled": true
   },
   "outputs": [
    {
     "data": {
      "text/plain": [
       "<AxesSubplot:xlabel='grade'>"
      ]
     },
     "execution_count": 66,
     "metadata": {},
     "output_type": "execute_result"
    },
    {
     "data": {
      "image/png": "[encoded data removed]",
      "text/plain": [
       "<Figure size 432x288 with 1 Axes>"
      ]
     },
     "metadata": {
      "needs_background": "light"
     },
     "output_type": "display_data"
    }
   ],
   "source": [
    "loan_df4[['grade','loan_status']][loan_df4.loan_status=='Charged Off'].groupby('grade').count().plot.bar()"
   ]
  },
  {
   "cell_type": "markdown",
   "id": "0c55da33",
   "metadata": {},
   "source": [
    "#### 4. emp. length with loan defaulting tendency"
   ]
  },
  {
   "cell_type": "code",
   "execution_count": 67,
   "id": "8a57cf9f",
   "metadata": {},
   "outputs": [
    {
     "data": {
      "text/plain": [
       "<AxesSubplot:xlabel='emp_length', ylabel='defaulted count'>"
      ]
     },
     "execution_count": 67,
     "metadata": {},
     "output_type": "execute_result"
    },
    {
     "data": {
      "image/png": "[encoded data removed]",
      "text/plain": [
       "<Figure size 432x288 with 1 Axes>"
      ]
     },
     "metadata": {
      "needs_background": "light"
     },
     "output_type": "display_data"
    }
   ],
   "source": [
    "loan_df4[['emp_length','loan_status']][loan_df4.loan_status=='Charged Off'].groupby('emp_length').count().plot.bar(ylabel=\"defaulted count\")"
   ]
  },
  {
   "cell_type": "markdown",
   "id": "4b1b0386",
   "metadata": {},
   "source": [
    "### 5. public backrupt declared application result in defaulting or not ( pub_rec & pub_rec_bankruptcies)"
   ]
  },
  {
   "cell_type": "code",
   "execution_count": 68,
   "id": "03feff4e",
   "metadata": {},
   "outputs": [
    {
     "data": {
      "text/plain": [
       "0    35844\n",
       "1     1966\n",
       "2       49\n",
       "3        7\n",
       "4        2\n",
       "Name: pub_rec, dtype: int64"
      ]
     },
     "execution_count": 68,
     "metadata": {},
     "output_type": "execute_result"
    }
   ],
   "source": [
    "loan_df4.pub_rec.value_counts()"
   ]
  },
  {
   "cell_type": "code",
   "execution_count": 69,
   "id": "134e6f1c",
   "metadata": {},
   "outputs": [
    {
     "data": {
      "text/plain": [
       "pub_rec\n",
       "0    4875\n",
       "1     422\n",
       "2      10\n",
       "Name: loan_status, dtype: int64"
      ]
     },
     "execution_count": 69,
     "metadata": {},
     "output_type": "execute_result"
    }
   ],
   "source": [
    "loan_df4[loan_df4.loan_status=='Charged Off'].groupby('pub_rec').count()['loan_status']"
   ]
  },
  {
   "cell_type": "code",
   "execution_count": 70,
   "id": "e68027e9",
   "metadata": {},
   "outputs": [
    {
     "data": {
      "text/plain": [
       "0.0    35581\n",
       "1.0     1594\n",
       "2.0        6\n",
       "Name: pub_rec_bankruptcies, dtype: int64"
      ]
     },
     "execution_count": 70,
     "metadata": {},
     "output_type": "execute_result"
    }
   ],
   "source": [
    "loan_df4.pub_rec_bankruptcies.value_counts()"
   ]
  },
  {
   "cell_type": "code",
   "execution_count": 71,
   "id": "13e28bcc",
   "metadata": {},
   "outputs": [
    {
     "data": {
      "text/plain": [
       "pub_rec_bankruptcies\n",
       "0.0    4853\n",
       "1.0     337\n",
       "2.0       2\n",
       "Name: loan_status, dtype: int64"
      ]
     },
     "execution_count": 71,
     "metadata": {},
     "output_type": "execute_result"
    }
   ],
   "source": [
    "loan_df4[loan_df4.loan_status=='Charged Off'].groupby('pub_rec_bankruptcies').count()['loan_status']"
   ]
  },
  {
   "cell_type": "code",
   "execution_count": null,
   "id": "761d86ff",
   "metadata": {},
   "outputs": [],
   "source": []
  },
  {
   "cell_type": "code",
   "execution_count": null,
   "id": "08c87681",
   "metadata": {},
   "outputs": [],
   "source": []
  },
  {
   "cell_type": "code",
   "execution_count": 72,
   "id": "b930e686",
   "metadata": {},
   "outputs": [
    {
     "data": {
      "text/plain": [
       "term_in_months\n",
       "36    28350\n",
       "60     9518\n",
       "Name: loan_status, dtype: int64"
      ]
     },
     "execution_count": 72,
     "metadata": {},
     "output_type": "execute_result"
    }
   ],
   "source": [
    "overall_count=loan_df4.groupby('term_in_months').count()['loan_status']\n",
    "overall_count"
   ]
  },
  {
   "cell_type": "code",
   "execution_count": 73,
   "id": "3b092438",
   "metadata": {},
   "outputs": [
    {
     "data": {
      "text/plain": [
       "term_in_months\n",
       "36    3144\n",
       "60    2163\n",
       "Name: int_rate, dtype: int64"
      ]
     },
     "execution_count": 73,
     "metadata": {},
     "output_type": "execute_result"
    }
   ],
   "source": [
    "default_count=loan_df4[loan_df4.loan_status=='Charged Off'].groupby('term_in_months').count()['int_rate']\n",
    "default_count"
   ]
  },
  {
   "cell_type": "code",
   "execution_count": null,
   "id": "0683c535",
   "metadata": {},
   "outputs": [],
   "source": []
  },
  {
   "cell_type": "code",
   "execution_count": null,
   "id": "2880ceec",
   "metadata": {},
   "outputs": [],
   "source": []
  },
  {
   "cell_type": "markdown",
   "id": "f7225ace",
   "metadata": {},
   "source": [
    "we can seethat the long tenure has proportionately high change of being defaulting "
   ]
  },
  {
   "cell_type": "code",
   "execution_count": 74,
   "id": "435f3a0a",
   "metadata": {},
   "outputs": [],
   "source": [
    "smry_df2=pd.concat([overall_count,default_count],axis=1)\n",
    "smry_df2.columns=['total_application','defaulted_application']"
   ]
  },
  {
   "cell_type": "code",
   "execution_count": 75,
   "id": "84a54a97",
   "metadata": {},
   "outputs": [
    {
     "data": {
      "text/html": [
       "<div>\n",
       "<style scoped>\n",
       "    .dataframe tbody tr th:only-of-type {\n",
       "        vertical-align: middle;\n",
       "    }\n",
       "\n",
       "    .dataframe tbody tr th {\n",
       "        vertical-align: top;\n",
       "    }\n",
       "\n",
       "    .dataframe thead th {\n",
       "        text-align: right;\n",
       "    }\n",
       "</style>\n",
       "<table border=\"1\" class=\"dataframe\">\n",
       "  <thead>\n",
       "    <tr style=\"text-align: right;\">\n",
       "      <th></th>\n",
       "      <th>total_application</th>\n",
       "      <th>defaulted_application</th>\n",
       "    </tr>\n",
       "    <tr>\n",
       "      <th>term_in_months</th>\n",
       "      <th></th>\n",
       "      <th></th>\n",
       "    </tr>\n",
       "  </thead>\n",
       "  <tbody>\n",
       "    <tr>\n",
       "      <th>36</th>\n",
       "      <td>28350</td>\n",
       "      <td>3144</td>\n",
       "    </tr>\n",
       "    <tr>\n",
       "      <th>60</th>\n",
       "      <td>9518</td>\n",
       "      <td>2163</td>\n",
       "    </tr>\n",
       "  </tbody>\n",
       "</table>\n",
       "</div>"
      ],
      "text/plain": [
       "                total_application  defaulted_application\n",
       "term_in_months                                          \n",
       "36                          28350                   3144\n",
       "60                           9518                   2163"
      ]
     },
     "execution_count": 75,
     "metadata": {},
     "output_type": "execute_result"
    }
   ],
   "source": [
    "smry_df2"
   ]
  },
  {
   "cell_type": "code",
   "execution_count": 76,
   "id": "4b9b6661",
   "metadata": {},
   "outputs": [
    {
     "data": {
      "text/plain": [
       "<matplotlib.legend.Legend at 0x1d497cc06a0>"
      ]
     },
     "execution_count": 76,
     "metadata": {},
     "output_type": "execute_result"
    },
    {
     "data": {
      "image/png": "[encoded data removed]",
      "text/plain": [
       "<Figure size 432x288 with 1 Axes>"
      ]
     },
     "metadata": {
      "needs_background": "light"
     },
     "output_type": "display_data"
    }
   ],
   "source": [
    "plt.bar(smry_df2.index-.95,smry_df2.iloc[0,:],width=.95,label='total application')\n",
    "plt.bar(smry_df2.index,smry_df2.iloc[1,:],width=.95,label='defaulted application')\n",
    "plt.xticks(smry_df2.index,['30 months','60 months'])\n",
    "plt.legend()"
   ]
  },
  {
   "cell_type": "markdown",
   "id": "e44e1ec7",
   "metadata": {},
   "source": [
    "this show most of the loan taken for the 60 month tenure is defaulted, so we should be careful while investing in the long term loan."
   ]
  },
  {
   "cell_type": "code",
   "execution_count": 77,
   "id": "57c3987a",
   "metadata": {},
   "outputs": [
    {
     "data": {
      "text/plain": [
       "13.49    327\n",
       "11.49    266\n",
       "16.77    191\n",
       "18.25    184\n",
       "11.99    183\n",
       "        ... \n",
       "22.94      1\n",
       "20.20      1\n",
       "19.39      1\n",
       "16.29      1\n",
       "24.40      1\n",
       "Name: int_rate, Length: 176, dtype: int64"
      ]
     },
     "execution_count": 77,
     "metadata": {},
     "output_type": "execute_result"
    }
   ],
   "source": [
    "# loan_df4[loan_df4.loan_status=='Charged Off']\n",
    "loan_df4[loan_df4.term_in_months==60].int_rate.value_counts()"
   ]
  },
  {
   "cell_type": "code",
   "execution_count": 78,
   "id": "5fb57e45",
   "metadata": {},
   "outputs": [],
   "source": [
    "temp1=(loan_df4[(loan_df4.term_in_months==60) &(loan_df4.loan_status=='Charged Off')].int_rate.value_counts()/loan_df4[loan_df4.term_in_months==60].int_rate.value_counts())>0.5"
   ]
  },
  {
   "cell_type": "code",
   "execution_count": 79,
   "id": "986819bc",
   "metadata": {},
   "outputs": [
    {
     "data": {
      "text/plain": [
       "16.11    True\n",
       "16.29    True\n",
       "20.20    True\n",
       "20.90    True\n",
       "21.74    True\n",
       "23.13    True\n",
       "24.40    True\n",
       "Name: int_rate, dtype: bool"
      ]
     },
     "execution_count": 79,
     "metadata": {},
     "output_type": "execute_result"
    }
   ],
   "source": [
    "temp1[temp1==True]"
   ]
  },
  {
   "cell_type": "markdown",
   "id": "bc33212c",
   "metadata": {},
   "source": [
    "this data shows that if we are charging higher interest rate and the tenure is high there is more than 50% chance of being defaulting"
   ]
  },
  {
   "cell_type": "code",
   "execution_count": null,
   "id": "4cb3189a",
   "metadata": {},
   "outputs": [],
   "source": []
  },
  {
   "cell_type": "markdown",
   "id": "abe54b4e",
   "metadata": {},
   "source": [
    "### 7. annual income with defaulting tendency"
   ]
  },
  {
   "cell_type": "code",
   "execution_count": 80,
   "id": "f12b826f",
   "metadata": {},
   "outputs": [
    {
     "data": {
      "text/plain": [
       "(array([3.7821e+04, 4.0000e+01, 4.0000e+00, 2.0000e+00, 0.0000e+00,\n",
       "        0.0000e+00, 0.0000e+00, 0.0000e+00, 0.0000e+00, 1.0000e+00]),\n",
       " array([4.0000e+03, 6.0360e+05, 1.2032e+06, 1.8028e+06, 2.4024e+06,\n",
       "        3.0020e+06, 3.6016e+06, 4.2012e+06, 4.8008e+06, 5.4004e+06,\n",
       "        6.0000e+06]),\n",
       " <BarContainer object of 10 artists>)"
      ]
     },
     "execution_count": 80,
     "metadata": {},
     "output_type": "execute_result"
    },
    {
     "data": {
      "image/png": "[encoded data removed]",
      "text/plain": [
       "<Figure size 432x288 with 1 Axes>"
      ]
     },
     "metadata": {
      "needs_background": "light"
     },
     "output_type": "display_data"
    }
   ],
   "source": [
    "plt.hist(loan_df4.annual_inc.values)"
   ]
  },
  {
   "cell_type": "markdown",
   "id": "d2e28ab1",
   "metadata": {},
   "source": [
    "this is giving some skewed result may be due to some extreme values lets try to make it normal"
   ]
  },
  {
   "cell_type": "code",
   "execution_count": 81,
   "id": "f155bb72",
   "metadata": {},
   "outputs": [
    {
     "data": {
      "text/plain": [
       "count    3.786800e+04\n",
       "mean     6.821043e+04\n",
       "std      6.121633e+04\n",
       "min      4.000000e+03\n",
       "25%      4.000000e+04\n",
       "50%      5.800000e+04\n",
       "75%      8.100000e+04\n",
       "max      6.000000e+06\n",
       "Name: annual_inc, dtype: float64"
      ]
     },
     "execution_count": 81,
     "metadata": {},
     "output_type": "execute_result"
    }
   ],
   "source": [
    "loan_df4.annual_inc.describe()"
   ]
  },
  {
   "cell_type": "code",
   "execution_count": 83,
   "id": "ac258965",
   "metadata": {},
   "outputs": [],
   "source": [
    "processing_df=loan_df4[loan_df4.annual_inc<=200000] # 75 percent of data is less that 81000 and max is 6000000 , lets try to elemenate those extreme values\n"
   ]
  },
  {
   "cell_type": "code",
   "execution_count": 84,
   "id": "d3da48c3",
   "metadata": {},
   "outputs": [
    {
     "data": {
      "image/png": "[encoded data removed]",
      "text/plain": [
       "<Figure size 432x288 with 1 Axes>"
      ]
     },
     "metadata": {
      "needs_background": "light"
     },
     "output_type": "display_data"
    }
   ],
   "source": [
    "a,b,c=plt.hist(processing_df.annual_inc)"
   ]
  },
  {
   "cell_type": "code",
   "execution_count": 85,
   "id": "3cacba5d",
   "metadata": {},
   "outputs": [],
   "source": [
    "grouped_subset=processing_df[['annual_inc','loan_status','int_rate']].groupby([pd.cut(processing_df.annual_inc,10),'loan_status'])"
   ]
  },
  {
   "cell_type": "code",
   "execution_count": 86,
   "id": "76bde2d6",
   "metadata": {},
   "outputs": [],
   "source": [
    "result=grouped_subset.size().unstack()"
   ]
  },
  {
   "cell_type": "code",
   "execution_count": 87,
   "id": "d9dcd093",
   "metadata": {},
   "outputs": [],
   "source": [
    "label_x=list(map(lambda x : x.right,result.index.tolist()))"
   ]
  },
  {
   "cell_type": "code",
   "execution_count": 88,
   "id": "2faf86c3",
   "metadata": {},
   "outputs": [
    {
     "data": {
      "text/plain": [
       "array([ 351, 1579, 1500,  903,  466,  197,  124,   74,   30,   28],\n",
       "      dtype=int64)"
      ]
     },
     "execution_count": 88,
     "metadata": {},
     "output_type": "execute_result"
    }
   ],
   "source": [
    "result['Charged Off'].values"
   ]
  },
  {
   "cell_type": "code",
   "execution_count": 89,
   "id": "d521ba06",
   "metadata": {},
   "outputs": [
    {
     "data": {
      "text/plain": [
       "[23600.0,\n",
       " 43200.0,\n",
       " 62800.0,\n",
       " 82400.0,\n",
       " 102000.0,\n",
       " 121600.0,\n",
       " 141200.0,\n",
       " 160800.0,\n",
       " 180400.0,\n",
       " 200000.0]"
      ]
     },
     "execution_count": 89,
     "metadata": {},
     "output_type": "execute_result"
    }
   ],
   "source": [
    "label_x"
   ]
  },
  {
   "cell_type": "code",
   "execution_count": 90,
   "id": "5cfe7e77",
   "metadata": {},
   "outputs": [
    {
     "data": {
      "text/plain": [
       "<matplotlib.legend.Legend at 0x1d4a69f1f10>"
      ]
     },
     "execution_count": 90,
     "metadata": {},
     "output_type": "execute_result"
    },
    {
     "data": {
      "image/png": "[encoded data removed]",
      "text/plain": [
       "<Figure size 1440x720 with 1 Axes>"
      ]
     },
     "metadata": {
      "needs_background": "light"
     },
     "output_type": "display_data"
    }
   ],
   "source": [
    "plt.figure(figsize=(20,10))\n",
    "plt.plot(label_x,result['Charged Off'],label='co')\n",
    "plt.plot(label_x,result['Current'],label='cr')\n",
    "plt.plot(label_x,result['Fully Paid'],label='fp')\n",
    "plt.legend()"
   ]
  },
  {
   "cell_type": "markdown",
   "id": "d292b175",
   "metadata": {},
   "source": [
    "thi sshows that lower income group have more defaulting tendency however the non defaulting is even more higher so annual income is not something that we shouldgive more focus while deciding on the possible defaulting candidate"
   ]
  },
  {
   "cell_type": "code",
   "execution_count": null,
   "id": "f1cd46f5",
   "metadata": {},
   "outputs": [],
   "source": []
  },
  {
   "cell_type": "markdown",
   "id": "daf825ce",
   "metadata": {},
   "source": [
    "### 8. if higher open credit line has any relation with the defaualting rate."
   ]
  },
  {
   "cell_type": "code",
   "execution_count": 91,
   "id": "df336c3d",
   "metadata": {},
   "outputs": [],
   "source": [
    "all_data=loan_df4.open_acc.value_counts().sort_index()"
   ]
  },
  {
   "cell_type": "code",
   "execution_count": 92,
   "id": "f91245f1",
   "metadata": {},
   "outputs": [],
   "source": [
    "default_data=loan_df4[(loan_df4.loan_status=='Charged Off')].open_acc.value_counts().sort_index()"
   ]
  },
  {
   "cell_type": "code",
   "execution_count": 93,
   "id": "df62989c",
   "metadata": {},
   "outputs": [],
   "source": [
    "cl_df=pd.concat([all_data,default_data],axis=1)"
   ]
  },
  {
   "cell_type": "code",
   "execution_count": 94,
   "id": "51b54cab",
   "metadata": {},
   "outputs": [],
   "source": [
    "cl_df.columns=['total application','defaulted application']"
   ]
  },
  {
   "cell_type": "code",
   "execution_count": 95,
   "id": "d03cd0de",
   "metadata": {},
   "outputs": [
    {
     "data": {
      "text/plain": [
       "<matplotlib.legend.Legend at 0x1d4a6e3f2b0>"
      ]
     },
     "execution_count": 95,
     "metadata": {},
     "output_type": "execute_result"
    },
    {
     "data": {
      "image/png": "[encoded data removed]",
      "text/plain": [
       "<Figure size 432x288 with 1 Axes>"
      ]
     },
     "metadata": {
      "needs_background": "light"
     },
     "output_type": "display_data"
    }
   ],
   "source": [
    "fig,ax=plt.subplots()\n",
    "ax.bar(cl_df.index,cl_df.iloc[:,0],label='total application')\n",
    "ax.bar(cl_df.index,cl_df.iloc[:,1],label='default application')\n",
    "plt.xlabel('Account opened ')\n",
    "plt.legend()"
   ]
  },
  {
   "cell_type": "markdown",
   "id": "e1bf3037",
   "metadata": {},
   "source": [
    "MOre credit line has not much impact  on the defaulting tendency"
   ]
  },
  {
   "cell_type": "markdown",
   "id": "12e7763c",
   "metadata": {},
   "source": [
    "### 9. dti ratio and defaulting tendency relation"
   ]
  },
  {
   "cell_type": "code",
   "execution_count": 96,
   "id": "51a8c681",
   "metadata": {},
   "outputs": [],
   "source": [
    "dti_all=loan_df4.groupby([pd.cut(loan_df4.dti,bins=10)]).size()"
   ]
  },
  {
   "cell_type": "code",
   "execution_count": 97,
   "id": "1e85fb2f",
   "metadata": {},
   "outputs": [],
   "source": [
    "dti_defaulted=loan_df4[loan_df4.loan_status=='Charged Off'].groupby([pd.cut(loan_df4.dti,bins=10)]).size()"
   ]
  },
  {
   "cell_type": "code",
   "execution_count": 98,
   "id": "e1ccaa97",
   "metadata": {},
   "outputs": [],
   "source": [
    "result_dtidf=pd.concat([dti_all,dti_defaulted],axis=1)"
   ]
  },
  {
   "cell_type": "code",
   "execution_count": 99,
   "id": "eb86d4d4",
   "metadata": {},
   "outputs": [
    {
     "data": {
      "text/plain": [
       "<BarContainer object of 10 artists>"
      ]
     },
     "execution_count": 99,
     "metadata": {},
     "output_type": "execute_result"
    },
    {
     "data": {
      "image/png": "[encoded data removed]",
      "text/plain": [
       "<Figure size 432x288 with 1 Axes>"
      ]
     },
     "metadata": {
      "needs_background": "light"
     },
     "output_type": "display_data"
    }
   ],
   "source": [
    "fig,ax1=plt.subplots()\n",
    "xlabels=list(map(lambda x : x.right,result_dtidf.index.tolist()))\n",
    "ax1.bar(xlabels,result_dtidf.iloc[:,0])\n",
    "ax1.bar(xlabels,result_dtidf.iloc[:,1])\n"
   ]
  },
  {
   "cell_type": "code",
   "execution_count": null,
   "id": "4aa9f6e8",
   "metadata": {},
   "outputs": [],
   "source": []
  },
  {
   "cell_type": "markdown",
   "id": "c08747e8",
   "metadata": {},
   "source": [
    "### 10. verification status and defaulting tendency"
   ]
  },
  {
   "cell_type": "code",
   "execution_count": 100,
   "id": "da35b461",
   "metadata": {},
   "outputs": [],
   "source": [
    "verifiication_df=loan_df4.groupby(['verification_status','loan_status']).size()"
   ]
  },
  {
   "cell_type": "code",
   "execution_count": 101,
   "id": "5a85043b",
   "metadata": {},
   "outputs": [
    {
     "data": {
      "text/plain": [
       "verification_status  loan_status\n",
       "Not Verified         Charged Off     2063\n",
       "                     Current          219\n",
       "                     Fully Paid     14130\n",
       "Source Verified      Charged Off     1365\n",
       "                     Current          287\n",
       "                     Fully Paid      7930\n",
       "Verified             Charged Off     1879\n",
       "                     Current          542\n",
       "                     Fully Paid      9453\n",
       "dtype: int64"
      ]
     },
     "execution_count": 101,
     "metadata": {},
     "output_type": "execute_result"
    }
   ],
   "source": [
    "verifiication_df"
   ]
  },
  {
   "cell_type": "markdown",
   "id": "7daf495f",
   "metadata": {},
   "source": [
    "this show that if the source of the candiddate is verified then the tendency of defaulting will be less  compared to the non-verified and only income verified\n"
   ]
  },
  {
   "cell_type": "code",
   "execution_count": 102,
   "id": "38cafc2c",
   "metadata": {},
   "outputs": [
    {
     "data": {
      "text/html": [
       "<div>\n",
       "<style scoped>\n",
       "    .dataframe tbody tr th:only-of-type {\n",
       "        vertical-align: middle;\n",
       "    }\n",
       "\n",
       "    .dataframe tbody tr th {\n",
       "        vertical-align: top;\n",
       "    }\n",
       "\n",
       "    .dataframe thead th {\n",
       "        text-align: right;\n",
       "    }\n",
       "</style>\n",
       "<table border=\"1\" class=\"dataframe\">\n",
       "  <thead>\n",
       "    <tr style=\"text-align: right;\">\n",
       "      <th>loan_status</th>\n",
       "      <th>Charged Off</th>\n",
       "      <th>Current</th>\n",
       "      <th>Fully Paid</th>\n",
       "    </tr>\n",
       "    <tr>\n",
       "      <th>home_ownership</th>\n",
       "      <th></th>\n",
       "      <th></th>\n",
       "      <th></th>\n",
       "    </tr>\n",
       "  </thead>\n",
       "  <tbody>\n",
       "    <tr>\n",
       "      <th>MORTGAGE</th>\n",
       "      <td>2145.0</td>\n",
       "      <td>577.0</td>\n",
       "      <td>13905.0</td>\n",
       "    </tr>\n",
       "    <tr>\n",
       "      <th>NONE</th>\n",
       "      <td>NaN</td>\n",
       "      <td>NaN</td>\n",
       "      <td>3.0</td>\n",
       "    </tr>\n",
       "    <tr>\n",
       "      <th>OTHER</th>\n",
       "      <td>15.0</td>\n",
       "      <td>NaN</td>\n",
       "      <td>73.0</td>\n",
       "    </tr>\n",
       "    <tr>\n",
       "      <th>OWN</th>\n",
       "      <td>424.0</td>\n",
       "      <td>81.0</td>\n",
       "      <td>2441.0</td>\n",
       "    </tr>\n",
       "    <tr>\n",
       "      <th>RENT</th>\n",
       "      <td>2723.0</td>\n",
       "      <td>390.0</td>\n",
       "      <td>15091.0</td>\n",
       "    </tr>\n",
       "  </tbody>\n",
       "</table>\n",
       "</div>"
      ],
      "text/plain": [
       "loan_status     Charged Off  Current  Fully Paid\n",
       "home_ownership                                  \n",
       "MORTGAGE             2145.0    577.0     13905.0\n",
       "NONE                    NaN      NaN         3.0\n",
       "OTHER                  15.0      NaN        73.0\n",
       "OWN                   424.0     81.0      2441.0\n",
       "RENT                 2723.0    390.0     15091.0"
      ]
     },
     "execution_count": 102,
     "metadata": {},
     "output_type": "execute_result"
    }
   ],
   "source": [
    "ownershipdf=loan_df4.groupby(['home_ownership','loan_status']).size().unstack()\n",
    "ownershipdf"
   ]
  },
  {
   "cell_type": "code",
   "execution_count": 104,
   "id": "0b1cfa9b",
   "metadata": {},
   "outputs": [],
   "source": [
    "x=np.arange(len(ownershipdf.index))"
   ]
  },
  {
   "cell_type": "code",
   "execution_count": 105,
   "id": "0e035a4c",
   "metadata": {},
   "outputs": [
    {
     "data": {
      "text/plain": [
       "<matplotlib.legend.Legend at 0x1d4974fbc70>"
      ]
     },
     "execution_count": 105,
     "metadata": {},
     "output_type": "execute_result"
    },
    {
     "data": {
      "image/png": "[encoded data removed]",
      "text/plain": [
       "<Figure size 432x288 with 1 Axes>"
      ]
     },
     "metadata": {
      "needs_background": "light"
     },
     "output_type": "display_data"
    }
   ],
   "source": [
    "plt.bar(x-.2,ownershipdf['Charged Off'],width=.2,label='CO')\n",
    "plt.bar(x,ownershipdf['Current'],width=.2,label='CR')\n",
    "plt.bar(x+.2,ownershipdf['Fully Paid'],width=.2,label='FP')\n",
    "plt.xticks(x,ownershipdf.index)\n",
    "plt.legend()"
   ]
  },
  {
   "cell_type": "code",
   "execution_count": null,
   "id": "d2b151e1",
   "metadata": {},
   "outputs": [],
   "source": []
  },
  {
   "cell_type": "code",
   "execution_count": null,
   "id": "37a6e699",
   "metadata": {},
   "outputs": [],
   "source": []
  },
  {
   "cell_type": "markdown",
   "id": "8aff8d82",
   "metadata": {},
   "source": [
    "This show that the pople with mortgage and rented house has relatively higher changes of being default in loan"
   ]
  },
  {
   "cell_type": "code",
   "execution_count": null,
   "id": "bf3ff709",
   "metadata": {},
   "outputs": [],
   "source": []
  },
  {
   "cell_type": "code",
   "execution_count": 106,
   "id": "1838e5dd",
   "metadata": {},
   "outputs": [],
   "source": [
    "revol_baldefault=loan_df4.groupby([pd.cut(loan_df4.revol_bal,bins=10),'loan_status']).size().unstack()"
   ]
  },
  {
   "cell_type": "markdown",
   "id": "f9f0db97",
   "metadata": {},
   "source": [
    "This shows with the lower balance mainted < 30k ..the chance of being defaulting is higher\n"
   ]
  },
  {
   "cell_type": "code",
   "execution_count": 107,
   "id": "470d1b5b",
   "metadata": {},
   "outputs": [
    {
     "data": {
      "image/png": "[encoded data removed]",
      "text/plain": [
       "<Figure size 432x288 with 1 Axes>"
      ]
     },
     "metadata": {
      "needs_background": "light"
     },
     "output_type": "display_data"
    }
   ],
   "source": [
    "fig,ax2=plt.subplots()\n",
    "# plt.rcdefaults()\n",
    "xlabels=np.array(list(map(lambda x : round(x.right),revol_baldefault.index.tolist())))\n",
    "ax2.bar(xlabels//10000,revol_baldefault.iloc[:,2],label='FP')\n",
    "ax2.bar(xlabels//10000,revol_baldefault.iloc[:,0].values,label='CO')\n",
    "ax2.bar(xlabels//10000,revol_baldefault.iloc[:,1],label='CR')\n",
    "# plt.xticks(xlabels,[1,2,3,4,5,6,7,8,9,0])\n",
    "plt.xlabel('Income in 10k format')\n",
    "plt.legend()\n",
    "plt.show()"
   ]
  },
  {
   "cell_type": "markdown",
   "id": "6df1defe",
   "metadata": {},
   "source": [
    "With the lower income the noticiable chargeoff proportion can be seen which means that if the user is maintaining lower revolving balance then he is likely to be defauting loan amount "
   ]
  },
  {
   "cell_type": "code",
   "execution_count": 108,
   "id": "ed4d2b7c",
   "metadata": {},
   "outputs": [
    {
     "data": {
      "text/html": [
       "<div>\n",
       "<style scoped>\n",
       "    .dataframe tbody tr th:only-of-type {\n",
       "        vertical-align: middle;\n",
       "    }\n",
       "\n",
       "    .dataframe tbody tr th {\n",
       "        vertical-align: top;\n",
       "    }\n",
       "\n",
       "    .dataframe thead th {\n",
       "        text-align: right;\n",
       "    }\n",
       "</style>\n",
       "<table border=\"1\" class=\"dataframe\">\n",
       "  <thead>\n",
       "    <tr style=\"text-align: right;\">\n",
       "      <th>loan_status</th>\n",
       "      <th>Charged Off</th>\n",
       "      <th>Current</th>\n",
       "      <th>Fully Paid</th>\n",
       "    </tr>\n",
       "    <tr>\n",
       "      <th>revol_bal</th>\n",
       "      <th></th>\n",
       "      <th></th>\n",
       "      <th></th>\n",
       "    </tr>\n",
       "  </thead>\n",
       "  <tbody>\n",
       "    <tr>\n",
       "      <th>(-149.588, 14958.8]</th>\n",
       "      <td>3736</td>\n",
       "      <td>614</td>\n",
       "      <td>22549</td>\n",
       "    </tr>\n",
       "    <tr>\n",
       "      <th>(14958.8, 29917.6]</th>\n",
       "      <td>1084</td>\n",
       "      <td>303</td>\n",
       "      <td>6131</td>\n",
       "    </tr>\n",
       "    <tr>\n",
       "      <th>(29917.6, 44876.4]</th>\n",
       "      <td>290</td>\n",
       "      <td>75</td>\n",
       "      <td>1552</td>\n",
       "    </tr>\n",
       "    <tr>\n",
       "      <th>(44876.4, 59835.2]</th>\n",
       "      <td>113</td>\n",
       "      <td>32</td>\n",
       "      <td>569</td>\n",
       "    </tr>\n",
       "    <tr>\n",
       "      <th>(59835.2, 74794.0]</th>\n",
       "      <td>35</td>\n",
       "      <td>16</td>\n",
       "      <td>289</td>\n",
       "    </tr>\n",
       "    <tr>\n",
       "      <th>(74794.0, 89752.8]</th>\n",
       "      <td>21</td>\n",
       "      <td>1</td>\n",
       "      <td>171</td>\n",
       "    </tr>\n",
       "    <tr>\n",
       "      <th>(89752.8, 104711.6]</th>\n",
       "      <td>16</td>\n",
       "      <td>2</td>\n",
       "      <td>104</td>\n",
       "    </tr>\n",
       "    <tr>\n",
       "      <th>(104711.6, 119670.4]</th>\n",
       "      <td>7</td>\n",
       "      <td>3</td>\n",
       "      <td>69</td>\n",
       "    </tr>\n",
       "    <tr>\n",
       "      <th>(119670.4, 134629.2]</th>\n",
       "      <td>1</td>\n",
       "      <td>1</td>\n",
       "      <td>53</td>\n",
       "    </tr>\n",
       "    <tr>\n",
       "      <th>(134629.2, 149588.0]</th>\n",
       "      <td>4</td>\n",
       "      <td>1</td>\n",
       "      <td>26</td>\n",
       "    </tr>\n",
       "  </tbody>\n",
       "</table>\n",
       "</div>"
      ],
      "text/plain": [
       "loan_status           Charged Off  Current  Fully Paid\n",
       "revol_bal                                             \n",
       "(-149.588, 14958.8]          3736      614       22549\n",
       "(14958.8, 29917.6]           1084      303        6131\n",
       "(29917.6, 44876.4]            290       75        1552\n",
       "(44876.4, 59835.2]            113       32         569\n",
       "(59835.2, 74794.0]             35       16         289\n",
       "(74794.0, 89752.8]             21        1         171\n",
       "(89752.8, 104711.6]            16        2         104\n",
       "(104711.6, 119670.4]            7        3          69\n",
       "(119670.4, 134629.2]            1        1          53\n",
       "(134629.2, 149588.0]            4        1          26"
      ]
     },
     "execution_count": 108,
     "metadata": {},
     "output_type": "execute_result"
    }
   ],
   "source": [
    "revol_baldefault"
   ]
  },
  {
   "cell_type": "code",
   "execution_count": 109,
   "id": "f5bead64",
   "metadata": {},
   "outputs": [
    {
     "data": {
      "text/html": [
       "<div>\n",
       "<style scoped>\n",
       "    .dataframe tbody tr th:only-of-type {\n",
       "        vertical-align: middle;\n",
       "    }\n",
       "\n",
       "    .dataframe tbody tr th {\n",
       "        vertical-align: top;\n",
       "    }\n",
       "\n",
       "    .dataframe thead th {\n",
       "        text-align: right;\n",
       "    }\n",
       "</style>\n",
       "<table border=\"1\" class=\"dataframe\">\n",
       "  <thead>\n",
       "    <tr style=\"text-align: right;\">\n",
       "      <th>loan_status</th>\n",
       "      <th>Charged Off</th>\n",
       "      <th>Current</th>\n",
       "      <th>Fully Paid</th>\n",
       "    </tr>\n",
       "    <tr>\n",
       "      <th>purpose</th>\n",
       "      <th></th>\n",
       "      <th></th>\n",
       "      <th></th>\n",
       "    </tr>\n",
       "  </thead>\n",
       "  <tbody>\n",
       "    <tr>\n",
       "      <th>car</th>\n",
       "      <td>157.0</td>\n",
       "      <td>50.0</td>\n",
       "      <td>1311.0</td>\n",
       "    </tr>\n",
       "    <tr>\n",
       "      <th>credit_card</th>\n",
       "      <td>499.0</td>\n",
       "      <td>94.0</td>\n",
       "      <td>4289.0</td>\n",
       "    </tr>\n",
       "    <tr>\n",
       "      <th>debt_consolidation</th>\n",
       "      <td>2600.0</td>\n",
       "      <td>534.0</td>\n",
       "      <td>14561.0</td>\n",
       "    </tr>\n",
       "    <tr>\n",
       "      <th>educational</th>\n",
       "      <td>53.0</td>\n",
       "      <td>NaN</td>\n",
       "      <td>262.0</td>\n",
       "    </tr>\n",
       "    <tr>\n",
       "      <th>home_improvement</th>\n",
       "      <td>331.0</td>\n",
       "      <td>94.0</td>\n",
       "      <td>2394.0</td>\n",
       "    </tr>\n",
       "    <tr>\n",
       "      <th>house</th>\n",
       "      <td>57.0</td>\n",
       "      <td>13.0</td>\n",
       "      <td>293.0</td>\n",
       "    </tr>\n",
       "    <tr>\n",
       "      <th>major_purchase</th>\n",
       "      <td>213.0</td>\n",
       "      <td>32.0</td>\n",
       "      <td>1857.0</td>\n",
       "    </tr>\n",
       "    <tr>\n",
       "      <th>medical</th>\n",
       "      <td>106.0</td>\n",
       "      <td>10.0</td>\n",
       "      <td>558.0</td>\n",
       "    </tr>\n",
       "    <tr>\n",
       "      <th>moving</th>\n",
       "      <td>91.0</td>\n",
       "      <td>7.0</td>\n",
       "      <td>468.0</td>\n",
       "    </tr>\n",
       "    <tr>\n",
       "      <th>other</th>\n",
       "      <td>595.0</td>\n",
       "      <td>124.0</td>\n",
       "      <td>3136.0</td>\n",
       "    </tr>\n",
       "    <tr>\n",
       "      <th>renewable_energy</th>\n",
       "      <td>18.0</td>\n",
       "      <td>1.0</td>\n",
       "      <td>80.0</td>\n",
       "    </tr>\n",
       "    <tr>\n",
       "      <th>small_business</th>\n",
       "      <td>441.0</td>\n",
       "      <td>63.0</td>\n",
       "      <td>1185.0</td>\n",
       "    </tr>\n",
       "    <tr>\n",
       "      <th>vacation</th>\n",
       "      <td>51.0</td>\n",
       "      <td>6.0</td>\n",
       "      <td>316.0</td>\n",
       "    </tr>\n",
       "    <tr>\n",
       "      <th>wedding</th>\n",
       "      <td>95.0</td>\n",
       "      <td>20.0</td>\n",
       "      <td>803.0</td>\n",
       "    </tr>\n",
       "  </tbody>\n",
       "</table>\n",
       "</div>"
      ],
      "text/plain": [
       "loan_status         Charged Off  Current  Fully Paid\n",
       "purpose                                             \n",
       "car                       157.0     50.0      1311.0\n",
       "credit_card               499.0     94.0      4289.0\n",
       "debt_consolidation       2600.0    534.0     14561.0\n",
       "educational                53.0      NaN       262.0\n",
       "home_improvement          331.0     94.0      2394.0\n",
       "house                      57.0     13.0       293.0\n",
       "major_purchase            213.0     32.0      1857.0\n",
       "medical                   106.0     10.0       558.0\n",
       "moving                     91.0      7.0       468.0\n",
       "other                     595.0    124.0      3136.0\n",
       "renewable_energy           18.0      1.0        80.0\n",
       "small_business            441.0     63.0      1185.0\n",
       "vacation                   51.0      6.0       316.0\n",
       "wedding                    95.0     20.0       803.0"
      ]
     },
     "execution_count": 109,
     "metadata": {},
     "output_type": "execute_result"
    }
   ],
   "source": [
    "loan_df4.groupby(['purpose','loan_status']).size().unstack()"
   ]
  },
  {
   "cell_type": "code",
   "execution_count": null,
   "id": "a260f44b",
   "metadata": {},
   "outputs": [],
   "source": []
  }
 ],
 "metadata": {
  "kernelspec": {
   "display_name": "Python 3 (ipykernel)",
   "language": "python",
   "name": "python3"
  },
  "language_info": {
   "codemirror_mode": {
    "name": "ipython",
    "version": 3
   },
   "file_extension": ".py",
   "mimetype": "text/x-python",
   "name": "python",
   "nbconvert_exporter": "python",
   "pygments_lexer": "ipython3",
   "version": "3.8.6"
  }
 },
 "nbformat": 4,
 "nbformat_minor": 5
}
